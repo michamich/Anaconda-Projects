{
 "cells": [
  {
   "cell_type": "code",
   "execution_count": 2,
   "metadata": {},
   "outputs": [],
   "source": [
    "import numpy as np\n",
    "from matplotlib import pyplot as plt"
   ]
  },
  {
   "cell_type": "markdown",
   "metadata": {},
   "source": [
    "# RBM class implementation with Constrastive Divergence"
   ]
  },
  {
   "cell_type": "markdown",
   "metadata": {},
   "source": [
    "Restricted Boltzmann Machine (RBM) is an algorithm that is based on the Boltzmann Machine. The idea was proposed by Geoffrey Hinton (2002) and has since been used to tackle many problems successfully, even beating out many advanced feed-forward networks. \n",
    "\n",
    "The architecture consists of 1 visible and 1 hidden unit. Every visible unit is linked to every hidden unit, but each hidden unit is independent from one another. The weights that connects the two layers are symmetrical. \n",
    "\n",
    "RBM is an unsupervised learning algorithm. There is no target function to minimize. Instead, it is a form of auto-encoder. The weights are adjusted such that the input can be reconstructed accurately. \n",
    "\n",
    "There are a number of possible learning method for the RBM. Here I present the most basic learning algorithm, the Contrastive Divergence algorithm. This algorithm compares the reconstructed input after k-steps to the initial input and updates the weight based on this difference. Take note that unlike a feed-forward network, the algorithm is probabilistic in nature. It does not back-propagate any error function to update the weights as there are no error function to evaluate.\n",
    "\n",
    "To monitor the learning performance, we plot the squared difference between the reconstructed mean and the input, the error function, as well as the weights distribution."
   ]
  },
  {
   "cell_type": "markdown",
   "metadata": {},
   "source": [
    "## Class Implementation Details"
   ]
  },
  {
   "cell_type": "markdown",
   "metadata": {},
   "source": [
    "The idea is based on the programming assignment of the Neural Network Assignment by Geoffrey Hinton on Coursera. Implementation as a class makes it easier to use in future projects and opens much more possibility for method expansions.\n",
    "\n",
    "The implementation also includes methods to display error and weight histogram to make monitoring of the learning process easier. "
   ]
  },
  {
   "cell_type": "code",
   "execution_count": 355,
   "metadata": {},
   "outputs": [],
   "source": [
    "class RBM(object):\n",
    "    def __init__(self, input = None, n_visible = 1, n_hidden = 1, \n",
    "                W = None, hbias = None, vbias = None, numpy_rng = None):\n",
    "        \"\"\"\n",
    "        Creates an RBM model based on the input parameter from a Numpy Array\n",
    "        \n",
    "        Matrix Sizes:\n",
    "        V = sample_size x n_visible\n",
    "        H = sample_size x n_hidden\n",
    "        W = n_visible x n_hidden\n",
    "        \n",
    "        Parameters:\n",
    "        input = input matrix for the RBM.\n",
    "        n_visible = number of visible UNITS. this has to align with the input dimensions\n",
    "        n_hidden = number of hidden UNITS.\n",
    "        W = initialized weights matrix. if None, weight will be initialized by the model \n",
    "            using a uniform distribution that is proportional to n_visible\n",
    "        h_vias = hidden unit bias vector\n",
    "        v_bias = visible unit bias vector\n",
    "        numpy_rng = random seed to ensure consistency in calculation. \n",
    "                    if left as None, random seed will be intialized by the model\n",
    "            \n",
    "        \"\"\"\n",
    "        self.n_visible = n_visible #num of visible unit\n",
    "        self.n_hidden = n_hidden #num of hidden unit\n",
    "        \n",
    "        if numpy_rng is None:\n",
    "            numpy_rng = np.random.RandomState(123)\n",
    "            \n",
    "        if W is None:\n",
    "            a = 1. / n_visible\n",
    "            initial_W = np.array(numpy_rng.uniform(\n",
    "                        low = -a, \n",
    "                        high = a, \n",
    "                        size = (n_visible, n_hidden)\n",
    "                            )\n",
    "                        )\n",
    "            W = initial_W\n",
    "        \n",
    "        sample_size = data.shape[0]\n",
    "        \n",
    "        if hbias == None:\n",
    "            hbias = np.zeros((sample_size,n_hidden))\n",
    "        \n",
    "        if vbias == None:\n",
    "            vbias = np.zeros((sample_size,n_visible))\n",
    "        \n",
    "        self.numpy_rng = numpy_rng\n",
    "        self.hbias = hbias\n",
    "        self.vbias = vbias\n",
    "        self.W = W\n",
    "        self.input = input\n",
    "        self.energy_plot = []\n",
    "        self.error_plot = []\n",
    "        \n",
    "    def contrastive_divergence(self, lr = 0.1, k = 1):\n",
    "        \"\"\"\n",
    "        Performs contrastive divergence of on the model. \n",
    "        \n",
    "        Parameters:\n",
    "        lr = learning rate. default = 0.1\n",
    "        k = number of steps for the CD algorithm. default = 1, i.e. CD1\n",
    "        \n",
    "        Outputs:\n",
    "        energy = energy of the current RBM model after k-steps of input reconstruction\n",
    "        error = error between reconstructed output after k-steps to the initial input\n",
    "        \"\"\"\n",
    "        ph_mean, ph_sample = self.get_hid_state(self.input)\n",
    "        \n",
    "        cur_sample = ph_sample\n",
    "        \n",
    "        for step in range(k):\n",
    "            nv_mean, nv_sample = self.get_vis_state(cur_sample)\n",
    "            nh_mean, nh_sample = self.get_hid_state(nv_sample)\n",
    "            cur_sample = nh_sample\n",
    "                \n",
    "        delta_W = lr * (np.dot(self.input.T, ph_sample) - np.dot(nv_sample.T, nh_sample))\n",
    "\n",
    "        delta_hbias = lr * np.mean(ph_sample - nh_sample)\n",
    "        delta_vbias = lr * np.mean(self.input - nv_sample)\n",
    "        \n",
    "        self.W += delta_W\n",
    "        self.hbias += delta_hbias\n",
    "        self.vbias += delta_vbias\n",
    "        \n",
    "        energy = self.get_energy(v = nv_mean, h = nh_mean)\n",
    "        error = self.get_error(v_init = self.input, v_recon = nv_mean)\n",
    "        \n",
    "        return [energy, error]\n",
    "        \n",
    "    def propup(self, v):\n",
    "        z = np.dot(v, self.W) + self.hbias\n",
    "        return self.sigmoid(z)\n",
    "    \n",
    "    def propdown(self, h):\n",
    "        z = np.dot(self.W, h.T).T + self.vbias\n",
    "        return self.sigmoid(z)\n",
    "    \n",
    "    def get_hid_state(self, v_sample):\n",
    "        h_mean = self.propup(v_sample)\n",
    "        h_sample = self.numpy_rng.binomial(size = h_mean.shape, \n",
    "                                            n = 1, #bernoulli distribution\n",
    "                                            p = h_mean)\n",
    "        return [h_mean, h_sample]\n",
    "    \n",
    "    def get_vis_state(self, h_sample):\n",
    "        v_mean = self.propdown(h_sample)\n",
    "        v_sample = self.numpy_rng.binomial(size = v_mean.shape, \n",
    "                                            n = 1, \n",
    "                                            p = v_mean)\n",
    "        return [v_mean, v_sample]\n",
    "      \n",
    "    def get_energy(self, v = None, h = None): \n",
    "        energy = -np.sum(np.multiply(np.dot(v.T, h), self.W)) - np.sum(np.dot(self.vbias, v.T)) - np.sum(np.dot(self.hbias, h.T))\n",
    "        return energy\n",
    "    \n",
    "    def get_error(self, v_init = None, v_recon = None):\n",
    "        error = np.sum(np.square(v_init - v_recon))\n",
    "        return error\n",
    "        \n",
    "    def sigmoid(self, x):\n",
    "        return 1/(1 + np.exp(-x))\n",
    "    \n",
    "    def train(self, n_epoch = 1000, lr = 0.1, k = 1):\n",
    "        \"\"\"\n",
    "        Training function. Calculates contrastive divergence to update the weight\n",
    "        and stores energy and error values\n",
    "        \n",
    "        Paramters:\n",
    "        n_epoch = number of epoch. default = 1000\n",
    "        lr = learning rate. default = 0.1\n",
    "        k = CD step number. default = 1    \n",
    "        \"\"\"\n",
    "        for epoch in range(n_epoch):\n",
    "            energy, error = self.contrastive_divergence(lr = lr/(epoch+1), k = k)\n",
    "            self.energy_plot.append(energy)\n",
    "            self.error_plot.append(error)\n",
    "            if (epoch + 1) % 100 == 0:\n",
    "                print('training epoch %s, energy is %s, error is %s' % (epoch + 1, energy, error))\n",
    "                \n",
    "    \n",
    "    def plot_energy(self, n_window = 100):\n",
    "        \"\"\"\n",
    "        Plots an energy function of the model.\n",
    "        Useful metric to use to monitor learning process.\n",
    "        \n",
    "        Parameters:\n",
    "        n_window = the window size for moving average of the model. \n",
    "        \"\"\"\n",
    "        energy_plot = []\n",
    "        cumsum = [0]\n",
    "        for i, energy in enumerate(self.energy_plot):\n",
    "            cumsum.append(cumsum[i-1] + energy)\n",
    "            if i >= n_window:\n",
    "                moving_ave = (cumsum[i] - cumsum[i - n_window])/n_window\n",
    "                energy_plot.append(moving_ave)\n",
    "            \n",
    "        plt.plot(energy_plot)\n",
    "        plt.show()\n",
    "        \n",
    "    def plot_error(self, n_window = 100):\n",
    "        \"\"\"\n",
    "        Plots the sum of squared error between the reconstructed input and the original input.\n",
    "        Useful metric to use to monitor learning process.\n",
    "        \n",
    "        Parameters:\n",
    "        n_window = the window size for moving average of the model. \n",
    "        \"\"\"\n",
    "        error_plot = []\n",
    "        cumsum = [0]\n",
    "        for i, error in enumerate(self.error_plot):\n",
    "            cumsum.append(cumsum[i - 1] + error)\n",
    "            if i >= n_window:\n",
    "                moving_ave = (cumsum[i] - cumsum[i-n_window])/n_window\n",
    "                error_plot.append(moving_ave)\n",
    "        \n",
    "        plt.plot(error_plot)\n",
    "        plt.show()\n",
    "    \n",
    "    def disp_weights(self, n_bins = 10):\n",
    "        \"\"\"\n",
    "        Debugging function to show the weights distribution\n",
    "        Useful metric to use to monitor learning process.\n",
    "        \"\"\"\n",
    "        #print(self.W)\n",
    "        plt.hist(self.W.reshape((self.n_visible * self.n_hidden, 1)), bins = n_bins)\n",
    "        plt.show()\n",
    "    \n",
    "    def predict(self, input = None):\n",
    "        if input is None:\n",
    "            input = self.input\n",
    "        hid_mean, hid_state = self.get_hid_state(input)\n",
    "        vis_mean, vis_state = self.get_vis_state(hid_state)\n",
    "\n",
    "        plt.subplot(231)\n",
    "        plt.imshow(input)\n",
    "        plt.title(\"original\")\n",
    "        plt.subplot(232)\n",
    "        plt.imshow(vis_state)\n",
    "        plt.title(\"reconstructed\")\n",
    "        plt.subplot(233)\n",
    "        plt.imshow(vis_mean)\n",
    "        plt.title(\"recon mean\")\n",
    "        \n",
    "        plt.subplot(234)\n",
    "        plt.imshow(self.W)\n",
    "        plt.title(\"weights\")\n",
    "        plt.show()"
   ]
  },
  {
   "cell_type": "code",
   "execution_count": 437,
   "metadata": {},
   "outputs": [],
   "source": [
    "data = np.array([[1,1,1,0,0,0],\n",
    "                 [1,0,1,0,0,0],\n",
    "                 [1,1,1,1,1,1],\n",
    "                 [0,0,0,1,0,1],\n",
    "                 [0,0,0,1,1,1],])\n",
    "rng = np.random.RandomState(123)\n",
    "n_visible = data.shape[1]\n",
    "n_hidden = 10\n",
    "W = rng.normal(size = (n_visible, n_hidden))"
   ]
  },
  {
   "cell_type": "code",
   "execution_count": 455,
   "metadata": {},
   "outputs": [],
   "source": [
    "rbm = RBM(input = data, n_visible = n_visible, n_hidden = n_hidden, W = W, numpy_rng = rng)"
   ]
  },
  {
   "cell_type": "code",
   "execution_count": 456,
   "metadata": {},
   "outputs": [
    {
     "data": {
      "image/png": "[encoded data removed]",
      "text/plain": [
       "<matplotlib.figure.Figure at 0x24f87d5da58>"
      ]
     },
     "metadata": {},
     "output_type": "display_data"
    }
   ],
   "source": [
    "rbm.disp_weights()"
   ]
  },
  {
   "cell_type": "code",
   "execution_count": 468,
   "metadata": {},
   "outputs": [
    {
     "name": "stdout",
     "output_type": "stream",
     "text": [
      "training epoch 100, energy is -49.87504645642065, error is 1.7558058116287663\n",
      "training epoch 200, energy is -56.39735002774035, error is 0.9526946249830063\n",
      "training epoch 300, energy is -55.06865913294473, error is 1.4809316782782092\n",
      "training epoch 400, energy is -54.27309043384027, error is 1.6264444417513715\n",
      "training epoch 500, energy is -53.19034898218938, error is 3.6411979305115905\n",
      "training epoch 600, energy is -48.109609818081125, error is 0.8206799885219086\n",
      "training epoch 700, energy is -50.08877263842787, error is 1.935783404850022\n",
      "training epoch 800, energy is -54.82986067303868, error is 1.4359522136567342\n",
      "training epoch 900, energy is -51.18396184246062, error is 1.9068697724822028\n",
      "training epoch 1000, energy is -52.479345633964996, error is 0.8545725999714212\n"
     ]
    }
   ],
   "source": [
    "rbm.train(lr = 0.1, k = 1, n_epoch = 1000)"
   ]
  },
  {
   "cell_type": "code",
   "execution_count": 469,
   "metadata": {},
   "outputs": [
    {
     "data": {
      "image/png": "[encoded data removed]",
      "text/plain": [
       "<matplotlib.figure.Figure at 0x24f88f3f6a0>"
      ]
     },
     "metadata": {},
     "output_type": "display_data"
    }
   ],
   "source": [
    "rbm.plot_energy()"
   ]
  },
  {
   "cell_type": "code",
   "execution_count": 471,
   "metadata": {},
   "outputs": [
    {
     "data": {
      "image/png": "[encoded data removed]",
      "text/plain": [
       "<matplotlib.figure.Figure at 0x24f87ab0208>"
      ]
     },
     "metadata": {},
     "output_type": "display_data"
    }
   ],
   "source": [
    "rbm.plot_error()"
   ]
  },
  {
   "cell_type": "code",
   "execution_count": 470,
   "metadata": {
    "scrolled": true
   },
   "outputs": [
    {
     "data": {
      "image/png": "[encoded data removed]",
      "text/plain": [
       "<matplotlib.figure.Figure at 0x24f87c95da0>"
      ]
     },
     "metadata": {},
     "output_type": "display_data"
    }
   ],
   "source": [
    "rbm.disp_weights()"
   ]
  },
  {
   "cell_type": "markdown",
   "metadata": {},
   "source": [
    "## Results of the RBM with CD algorithm"
   ]
  },
  {
   "cell_type": "markdown",
   "metadata": {},
   "source": [
    "Due to the crude nature of CD learning algorithm whereby the model is restarted to the initial point at every step of the learning, the model term of the weight update expression is too far from the ideal model parameter. This can be seeen from the reconstructed result compared to the initial input below.\n",
    "\n",
    "In the next section I will improve on this using the Persistent Contastive Divergence method."
   ]
  },
  {
   "cell_type": "code",
   "execution_count": 472,
   "metadata": {},
   "outputs": [],
   "source": [
    "vali = np.array([[1,0,1,0,0,1],\n",
    "                 [1,0,1,0,0,1],\n",
    "                 [1,1,1,0,0,1],\n",
    "                 [0,0,1,1,1,1],\n",
    "                 [0,0,0,0,0,0],])"
   ]
  },
  {
   "cell_type": "code",
   "execution_count": 473,
   "metadata": {
    "scrolled": true
   },
   "outputs": [
    {
     "data": {
      "image/png": "[encoded data removed]",
      "text/plain": [
       "<matplotlib.figure.Figure at 0x24f87ce14e0>"
      ]
     },
     "metadata": {},
     "output_type": "display_data"
    }
   ],
   "source": [
    "rbm.predict()"
   ]
  },
  {
   "cell_type": "code",
   "execution_count": 474,
   "metadata": {
    "scrolled": false
   },
   "outputs": [
    {
     "data": {
      "image/png": "[encoded data removed]",
      "text/plain": [
       "<matplotlib.figure.Figure at 0x24f87db8cc0>"
      ]
     },
     "metadata": {},
     "output_type": "display_data"
    }
   ],
   "source": [
    "rbm.predict(input = vali)"
   ]
  },
  {
   "cell_type": "markdown",
   "metadata": {},
   "source": [
    "# RBM with Persistent CD algorithm"
   ]
  },
  {
   "cell_type": "markdown",
   "metadata": {},
   "source": [
    "Persistent Contrastive Divergence is a variant of the contrastive divergence algorithm illustrated above. However, instead of restarting the Markov Chain everytime the contrastive divergence, we allow the Markov Chain to run continuously. This is achieved by having the result of the previous Chain stored and used in the next chain. \n",
    "\n",
    "By having the Chain run continously, the model is able to move much further along the model space than traditional Contrastive Divergence. As a result, with subsequent iteration, the configuration gets closer to the ideal equilibrium configuration, making the reconstruction much more accurate. \n"
   ]
  },
  {
   "cell_type": "code",
   "execution_count": 517,
   "metadata": {},
   "outputs": [],
   "source": [
    "class RBM_PCD (RBM):\n",
    "    def __init__(self, input = None, n_visible = 1, n_hidden = 1, \n",
    "                W = None, hbias = None, vbias = None, numpy_rng = None):\n",
    "        RBM.__init__(self, input, n_visible, n_hidden, W, hbias, vbias, numpy_rng)\n",
    "        \n",
    "        self.V_mean, self.V_persistent = np.zeros(self.input.shape), self.input\n",
    "        self.H_mean, self.H_persistent = self.get_hid_state(self.V_persistent)\n",
    "        \n",
    "    def PCD (self, lr = 0.01, k = 1, wd = 0.9):\n",
    "        \"\"\"\n",
    "        Updates weight using PCD algorithm. \n",
    "        \n",
    "        Parameters:\n",
    "        lr = Learning Rate\n",
    "        k = CD step to take before weight update\n",
    "        \n",
    "        Output:\n",
    "        error = squared error between reconstructed input and actual input\n",
    "        energy = energy of the reconstructed model\n",
    "        \"\"\"\n",
    "        ph_mean, ph_sample = self.get_hid_state(self.input)\n",
    "        \n",
    "        for step in range(k):\n",
    "            self.V_mean, self.V_persistent = self.get_vis_state(self.H_persistent)\n",
    "            self.H_mean, self.H_Persistent = self.get_hid_state(self.V_persistent)\n",
    "                \n",
    "        delta_W = lr * (np.dot(self.input.T, ph_mean) - np.dot(self.V_mean.T, self.H_mean))\n",
    "\n",
    "        delta_hbias = lr * np.mean(ph_sample - self.H_mean)\n",
    "        delta_vbias = lr * np.mean(self.input - self.V_mean)\n",
    "        \n",
    "        self.W = wd * (self.W + delta_W)\n",
    "        self.hbias  = wd * (self.hbias + delta_hbias)\n",
    "        self.vbias  = wd * (self.vbias + delta_vbias)\n",
    "        \n",
    "        energy = self.get_energy(v = self.V_mean, h = self.H_mean)\n",
    "        error = self.get_error(v_init = self.input, v_recon = self.V_mean)\n",
    "        \n",
    "        return [energy, error]\n",
    "    \n",
    "    def train(self, n_epoch = 1000, lr = 0.1, k = 1, wd = 0.9):\n",
    "        for epoch in range(n_epoch):\n",
    "            energy, error = self.PCD(lr = lr/(epoch + 1), k = k, wd = wd)\n",
    "            self.energy_plot.append(energy)\n",
    "            self.error_plot.append(error)\n",
    "            if (epoch + 1) % 100 == 0:\n",
    "                print('training epoch %s, energy is %s, error is %s' % (epoch + 1, energy, error))\n",
    "                \n",
    "            "
   ]
  },
  {
   "cell_type": "code",
   "execution_count": 518,
   "metadata": {},
   "outputs": [],
   "source": [
    "data = np.array([[1,1,1,0,0,0],\n",
    "                 [1,0,1,0,0,0],\n",
    "                 [1,1,1,1,1,1],\n",
    "                 [0,0,0,1,0,1],\n",
    "                 [0,0,0,1,1,1],])\n",
    "rng = np.random.RandomState(123)\n",
    "n_visible = data.shape[1]\n",
    "n_hidden = 10\n",
    "W = rng.normal(size = (n_visible, n_hidden))"
   ]
  },
  {
   "cell_type": "code",
   "execution_count": 519,
   "metadata": {},
   "outputs": [],
   "source": [
    "rbm_pcd = RBM_PCD(input = data, n_visible = n_visible, n_hidden = n_hidden, W = W, numpy_rng = rng)"
   ]
  },
  {
   "cell_type": "code",
   "execution_count": 520,
   "metadata": {
    "scrolled": true
   },
   "outputs": [
    {
     "data": {
      "image/png": "[encoded data removed]",
      "text/plain": [
       "<matplotlib.figure.Figure at 0x24f88f1bdd8>"
      ]
     },
     "metadata": {},
     "output_type": "display_data"
    }
   ],
   "source": [
    "rbm_pcd.disp_weights()"
   ]
  },
  {
   "cell_type": "code",
   "execution_count": 541,
   "metadata": {},
   "outputs": [
    {
     "name": "stdout",
     "output_type": "stream",
     "text": [
      "training epoch 100, energy is -58.128497351161315, error is 2.6136355745706985\n",
      "training epoch 200, energy is -59.04456659936415, error is 2.6134414349624717\n",
      "training epoch 300, energy is -61.10651247905598, error is 2.6129618677460633\n",
      "training epoch 400, energy is -57.50878249769688, error is 2.6126205826324016\n",
      "training epoch 500, energy is -55.04665701238793, error is 2.6121214003083546\n",
      "training epoch 600, energy is -57.43974748388045, error is 2.611420686927921\n",
      "training epoch 700, energy is -61.07473795427564, error is 2.6111364119499596\n",
      "training epoch 800, energy is -50.94913745141437, error is 2.6111325636333342\n",
      "training epoch 900, energy is -61.90859631551186, error is 2.610936864186929\n",
      "training epoch 1000, energy is -58.13688683670485, error is 2.610758147104084\n"
     ]
    }
   ],
   "source": [
    "rbm_pcd.train(lr = 0.1, k = 1, n_epoch = 1000, wd = 1)"
   ]
  },
  {
   "cell_type": "markdown",
   "metadata": {},
   "source": [
    "# Results from using RBM with PCD learning algorithm"
   ]
  },
  {
   "cell_type": "code",
   "execution_count": 542,
   "metadata": {},
   "outputs": [
    {
     "data": {
      "image/png": "[encoded data removed]",
      "text/plain": [
       "<matplotlib.figure.Figure at 0x24f87e2ecc0>"
      ]
     },
     "metadata": {},
     "output_type": "display_data"
    }
   ],
   "source": [
    "rbm_pcd.plot_energy(100)"
   ]
  },
  {
   "cell_type": "code",
   "execution_count": 543,
   "metadata": {},
   "outputs": [
    {
     "data": {
      "image/png": "[encoded data removed]",
      "text/plain": [
       "<matplotlib.figure.Figure at 0x24f87c71a58>"
      ]
     },
     "metadata": {},
     "output_type": "display_data"
    }
   ],
   "source": [
    "rbm_pcd.plot_error(100)"
   ]
  },
  {
   "cell_type": "code",
   "execution_count": 544,
   "metadata": {},
   "outputs": [
    {
     "data": {
      "image/png": "[encoded data removed]",
      "text/plain": [
       "<matplotlib.figure.Figure at 0x24f87cee438>"
      ]
     },
     "metadata": {},
     "output_type": "display_data"
    }
   ],
   "source": [
    "rbm_pcd.disp_weights()"
   ]
  },
  {
   "cell_type": "markdown",
   "metadata": {},
   "source": [
    "# Results of the RBM learned with PCD"
   ]
  },
  {
   "cell_type": "markdown",
   "metadata": {},
   "source": [
    "As can be seen, the reconstructed mean resembles the input more compared to when CD1 was used. This comes at the expense of computing power however. For this small toy example, computing power is not big issue. However, as the input data set becomes bigger, learning will take much longer."
   ]
  },
  {
   "cell_type": "code",
   "execution_count": 545,
   "metadata": {},
   "outputs": [],
   "source": [
    "vali = np.array([[1,0,1,0,0,1],\n",
    "                 [1,0,1,0,0,1],\n",
    "                 [1,1,1,0,0,1],\n",
    "                 [0,0,1,1,1,1],\n",
    "                 [0,0,0,0,0,0],])"
   ]
  },
  {
   "cell_type": "code",
   "execution_count": 546,
   "metadata": {},
   "outputs": [
    {
     "data": {
      "image/png": "[encoded data removed]",
      "text/plain": [
       "<matplotlib.figure.Figure at 0x24f87a85898>"
      ]
     },
     "metadata": {},
     "output_type": "display_data"
    }
   ],
   "source": [
    "rbm_pcd.predict()"
   ]
  },
  {
   "cell_type": "code",
   "execution_count": 551,
   "metadata": {
    "scrolled": true
   },
   "outputs": [
    {
     "data": {
      "image/png": "[encoded data removed]",
      "text/plain": [
       "<matplotlib.figure.Figure at 0x24f876fd198>"
      ]
     },
     "metadata": {},
     "output_type": "display_data"
    }
   ],
   "source": [
    "rbm_pcd.predict(input = vali)"
   ]
  },
  {
   "cell_type": "code",
   "execution_count": null,
   "metadata": {},
   "outputs": [],
   "source": []
  },
  {
   "cell_type": "code",
   "execution_count": null,
   "metadata": {},
   "outputs": [],
   "source": []
  }
 ],
 "metadata": {
  "kernelspec": {
   "display_name": "Python 3",
   "language": "python",
   "name": "python3"
  },
  "language_info": {
   "codemirror_mode": {
    "name": "ipython",
    "version": 3
   },
   "file_extension": ".py",
   "mimetype": "text/x-python",
   "name": "python",
   "nbconvert_exporter": "python",
   "pygments_lexer": "ipython3",
   "version": "3.6.4"
  }
 },
 "nbformat": 4,
 "nbformat_minor": 2
}
