{
 "cells": [
  {
   "cell_type": "code",
   "execution_count": 279,
   "metadata": {},
   "outputs": [],
   "source": [
    "import pandas as pd\n",
    "import numpy as np\n",
    "from matplotlib import pyplot as plt"
   ]
  },
  {
   "cell_type": "code",
   "execution_count": 2,
   "metadata": {},
   "outputs": [],
   "source": [
    "PATH = \"MNIST Data/\"\n",
    "train_path = f'{PATH}train.csv'\n",
    "test_path = f'{PATH}test.csv'"
   ]
  },
  {
   "cell_type": "code",
   "execution_count": 3,
   "metadata": {},
   "outputs": [],
   "source": [
    "train = pd.read_csv(train_path)\n",
    "test = pd.read_csv(test_path)"
   ]
  },
  {
   "cell_type": "code",
   "execution_count": 4,
   "metadata": {},
   "outputs": [
    {
     "data": {
      "text/html": [
       "<div>\n",
       "<style scoped>\n",
       "    .dataframe tbody tr th:only-of-type {\n",
       "        vertical-align: middle;\n",
       "    }\n",
       "\n",
       "    .dataframe tbody tr th {\n",
       "        vertical-align: top;\n",
       "    }\n",
       "\n",
       "    .dataframe thead th {\n",
       "        text-align: right;\n",
       "    }\n",
       "</style>\n",
       "<table border=\"1\" class=\"dataframe\">\n",
       "  <thead>\n",
       "    <tr style=\"text-align: right;\">\n",
       "      <th></th>\n",
       "      <th>label</th>\n",
       "      <th>pixel0</th>\n",
       "      <th>pixel1</th>\n",
       "      <th>pixel2</th>\n",
       "      <th>pixel3</th>\n",
       "      <th>pixel4</th>\n",
       "      <th>pixel5</th>\n",
       "      <th>pixel6</th>\n",
       "      <th>pixel7</th>\n",
       "      <th>pixel8</th>\n",
       "      <th>...</th>\n",
       "      <th>pixel774</th>\n",
       "      <th>pixel775</th>\n",
       "      <th>pixel776</th>\n",
       "      <th>pixel777</th>\n",
       "      <th>pixel778</th>\n",
       "      <th>pixel779</th>\n",
       "      <th>pixel780</th>\n",
       "      <th>pixel781</th>\n",
       "      <th>pixel782</th>\n",
       "      <th>pixel783</th>\n",
       "    </tr>\n",
       "  </thead>\n",
       "  <tbody>\n",
       "    <tr>\n",
       "      <th>0</th>\n",
       "      <td>1</td>\n",
       "      <td>0</td>\n",
       "      <td>0</td>\n",
       "      <td>0</td>\n",
       "      <td>0</td>\n",
       "      <td>0</td>\n",
       "      <td>0</td>\n",
       "      <td>0</td>\n",
       "      <td>0</td>\n",
       "      <td>0</td>\n",
       "      <td>...</td>\n",
       "      <td>0</td>\n",
       "      <td>0</td>\n",
       "      <td>0</td>\n",
       "      <td>0</td>\n",
       "      <td>0</td>\n",
       "      <td>0</td>\n",
       "      <td>0</td>\n",
       "      <td>0</td>\n",
       "      <td>0</td>\n",
       "      <td>0</td>\n",
       "    </tr>\n",
       "    <tr>\n",
       "      <th>1</th>\n",
       "      <td>0</td>\n",
       "      <td>0</td>\n",
       "      <td>0</td>\n",
       "      <td>0</td>\n",
       "      <td>0</td>\n",
       "      <td>0</td>\n",
       "      <td>0</td>\n",
       "      <td>0</td>\n",
       "      <td>0</td>\n",
       "      <td>0</td>\n",
       "      <td>...</td>\n",
       "      <td>0</td>\n",
       "      <td>0</td>\n",
       "      <td>0</td>\n",
       "      <td>0</td>\n",
       "      <td>0</td>\n",
       "      <td>0</td>\n",
       "      <td>0</td>\n",
       "      <td>0</td>\n",
       "      <td>0</td>\n",
       "      <td>0</td>\n",
       "    </tr>\n",
       "    <tr>\n",
       "      <th>2</th>\n",
       "      <td>1</td>\n",
       "      <td>0</td>\n",
       "      <td>0</td>\n",
       "      <td>0</td>\n",
       "      <td>0</td>\n",
       "      <td>0</td>\n",
       "      <td>0</td>\n",
       "      <td>0</td>\n",
       "      <td>0</td>\n",
       "      <td>0</td>\n",
       "      <td>...</td>\n",
       "      <td>0</td>\n",
       "      <td>0</td>\n",
       "      <td>0</td>\n",
       "      <td>0</td>\n",
       "      <td>0</td>\n",
       "      <td>0</td>\n",
       "      <td>0</td>\n",
       "      <td>0</td>\n",
       "      <td>0</td>\n",
       "      <td>0</td>\n",
       "    </tr>\n",
       "    <tr>\n",
       "      <th>3</th>\n",
       "      <td>4</td>\n",
       "      <td>0</td>\n",
       "      <td>0</td>\n",
       "      <td>0</td>\n",
       "      <td>0</td>\n",
       "      <td>0</td>\n",
       "      <td>0</td>\n",
       "      <td>0</td>\n",
       "      <td>0</td>\n",
       "      <td>0</td>\n",
       "      <td>...</td>\n",
       "      <td>0</td>\n",
       "      <td>0</td>\n",
       "      <td>0</td>\n",
       "      <td>0</td>\n",
       "      <td>0</td>\n",
       "      <td>0</td>\n",
       "      <td>0</td>\n",
       "      <td>0</td>\n",
       "      <td>0</td>\n",
       "      <td>0</td>\n",
       "    </tr>\n",
       "    <tr>\n",
       "      <th>4</th>\n",
       "      <td>0</td>\n",
       "      <td>0</td>\n",
       "      <td>0</td>\n",
       "      <td>0</td>\n",
       "      <td>0</td>\n",
       "      <td>0</td>\n",
       "      <td>0</td>\n",
       "      <td>0</td>\n",
       "      <td>0</td>\n",
       "      <td>0</td>\n",
       "      <td>...</td>\n",
       "      <td>0</td>\n",
       "      <td>0</td>\n",
       "      <td>0</td>\n",
       "      <td>0</td>\n",
       "      <td>0</td>\n",
       "      <td>0</td>\n",
       "      <td>0</td>\n",
       "      <td>0</td>\n",
       "      <td>0</td>\n",
       "      <td>0</td>\n",
       "    </tr>\n",
       "  </tbody>\n",
       "</table>\n",
       "<p>5 rows × 785 columns</p>\n",
       "</div>"
      ],
      "text/plain": [
       "   label  pixel0  pixel1  pixel2  pixel3  pixel4  pixel5  pixel6  pixel7  \\\n",
       "0      1       0       0       0       0       0       0       0       0   \n",
       "1      0       0       0       0       0       0       0       0       0   \n",
       "2      1       0       0       0       0       0       0       0       0   \n",
       "3      4       0       0       0       0       0       0       0       0   \n",
       "4      0       0       0       0       0       0       0       0       0   \n",
       "\n",
       "   pixel8    ...     pixel774  pixel775  pixel776  pixel777  pixel778  \\\n",
       "0       0    ...            0         0         0         0         0   \n",
       "1       0    ...            0         0         0         0         0   \n",
       "2       0    ...            0         0         0         0         0   \n",
       "3       0    ...            0         0         0         0         0   \n",
       "4       0    ...            0         0         0         0         0   \n",
       "\n",
       "   pixel779  pixel780  pixel781  pixel782  pixel783  \n",
       "0         0         0         0         0         0  \n",
       "1         0         0         0         0         0  \n",
       "2         0         0         0         0         0  \n",
       "3         0         0         0         0         0  \n",
       "4         0         0         0         0         0  \n",
       "\n",
       "[5 rows x 785 columns]"
      ]
     },
     "execution_count": 4,
     "metadata": {},
     "output_type": "execute_result"
    }
   ],
   "source": [
    "train.head()"
   ]
  },
  {
   "cell_type": "code",
   "execution_count": 5,
   "metadata": {},
   "outputs": [],
   "source": [
    "def sigmoid(x):\n",
    "    return 1/(1 + np.exp(-x))"
   ]
  },
  {
   "cell_type": "code",
   "execution_count": 724,
   "metadata": {},
   "outputs": [],
   "source": [
    "class RBM(object):\n",
    "    def __init__(self, input = None, n_visible = 1, n_hidden = 1, \n",
    "                W = None, hbias = None, vbias = None, numpy_rng = None):\n",
    "        \n",
    "        self.n_visible = n_visible #num of visible unit\n",
    "        self.n_hidden = n_hidden #num of hidden unit\n",
    "        \n",
    "        if numpy_rng is None:\n",
    "            numpy_rng = np.random.RandomState(123)\n",
    "            \n",
    "        if W is None:\n",
    "            a = 1. / n_visible\n",
    "            initial_W = np.array(numpy_rng.uniform(\n",
    "                        low = -a, \n",
    "                        high = a, \n",
    "                        size = (n_visible, n_hidden)\n",
    "                            )\n",
    "                        )\n",
    "            W = initial_W\n",
    "        \n",
    "        if hbias == None:\n",
    "            hbias = np.zeros(n_hidden)\n",
    "        \n",
    "        if vbias == None:\n",
    "            vbias = np.zeros(n_visible)\n",
    "        \n",
    "        self.numpy_rng = numpy_rng\n",
    "        self.hbias = hbias\n",
    "        self.vbias = vbias\n",
    "        self.W = W\n",
    "        self.input = input\n",
    "        self.energy_plot = []\n",
    "        self.error_plot = []\n",
    "        \n",
    "    def contrastive_divergence(self, lr = 0.1, k = 1):\n",
    "        ph_mean, ph_sample = self.get_hid_state(self.input)\n",
    "        \n",
    "        cur_sample = ph_sample\n",
    "        \n",
    "        for step in range(k):\n",
    "            nv_mean, nv_sample = self.get_vis_state(cur_sample)\n",
    "            nh_mean, nh_sample = self.get_hid_state(nv_sample)\n",
    "            cur_sample = nh_sample\n",
    "                \n",
    "        delta_W = lr * (np.dot(self.input.T, ph_sample) - np.dot(nv_sample, nh_sample))\n",
    "\n",
    "        delta_hbias = lr * np.mean(ph_sample - nh_sample)\n",
    "        delta_vbias = lr * np.mean(self.input.T - nv_sample)\n",
    "        \n",
    "        self.W += delta_W\n",
    "        self.hbias += delta_hbias\n",
    "        self.vbias += delta_vbias\n",
    "        \n",
    "        energy = self.get_energy(v = nv_mean, h = nh_mean)\n",
    "        error = self.get_error(v_init = self.input.T, v_recon = nv_mean)\n",
    "        \n",
    "        return [energy, error]\n",
    "        \n",
    "    def propup(self, v):\n",
    "        z = np.dot(v.T, self.W) + self.hbias\n",
    "        return sigmoid(z)\n",
    "    \n",
    "    def propdown(self, h):\n",
    "        z = np.dot(self.W, h.T) + self.vbias\n",
    "        return sigmoid(z)\n",
    "    \n",
    "    def get_hid_state(self, v_sample):\n",
    "        h_mean = self.propup(v_sample)\n",
    "        h_sample = self.numpy_rng.binomial(size = h_mean.shape, \n",
    "                                            n = 1, #bernoulli distribution\n",
    "                                            p = h_mean)\n",
    "        return [h_mean, h_sample]\n",
    "    \n",
    "    def get_vis_state(self, h_sample):\n",
    "        v_mean = self.propdown(h_sample)\n",
    "        v_sample = self.numpy_rng.binomial(size = v_mean.shape, \n",
    "                                            n = 1, \n",
    "                                            p = v_mean)\n",
    "        return [v_mean, v_sample]\n",
    "      \n",
    "    def get_energy(self, v = None, h = None):\n",
    "        energy = -np.sum(np.multiply(np.dot(v, h), self.W)) - np.sum(np.dot(self.vbias, v)) - np.sum(np.dot(self.hbias, h.T))\n",
    "        return energy\n",
    "    \n",
    "    def get_error(self, v_init = None, v_recon = None):\n",
    "        error = np.sum(np.square(v_init - v_recon))\n",
    "        return error\n",
    "        \n",
    "    def train(self, n_epoch = 1000, lr = 0.1, k = 1):\n",
    "        for epoch in range(n_epoch):\n",
    "            energy, error = self.contrastive_divergence(lr = lr, k = k)\n",
    "            self.energy_plot.append(energy)\n",
    "            self.error_plot.append(error)\n",
    "            if epoch % 100 == 0:\n",
    "                print('training epoch %s, energy is %s, error is %s' % (epoch, energy, error))\n",
    "    \n",
    "    def plot_energy(self):\n",
    "        energy_plot = []\n",
    "        cumsum = [0]\n",
    "        n_window = 100\n",
    "        for i, energy in enumerate(self.energy_plot):\n",
    "            cumsum.append(cumsum[i-1] + energy)\n",
    "            if i >= n_window:\n",
    "                moving_ave = (cumsum[i] - cumsum[i - n_window])/n_window\n",
    "                energy_plot.append(moving_ave)\n",
    "            \n",
    "        plt.plot(energy_plot)\n",
    "        plt.show()\n",
    "        \n",
    "    def plot_error(self):\n",
    "        error_plot = []\n",
    "        cumsum = [0]\n",
    "        n_window = 100\n",
    "        for i, error in enumerate(self.error_plot):\n",
    "            cumsum.append(cumsum[i - 1] + error)\n",
    "            if i >= n_window:\n",
    "                moving_ave = (cumsum[i] - cumsum[i-n_window])/n_window\n",
    "                error_plot.append(moving_ave)\n",
    "        \n",
    "        plt.plot(error_plot)\n",
    "        plt.show()\n",
    "    \n",
    "    def disp_weights(self):\n",
    "        #print(self.W)\n",
    "        plt.hist(self.W.reshape((self.n_visible * self.n_hidden, 1)), bins = 10)\n",
    "        plt.show()"
   ]
  },
  {
   "cell_type": "code",
   "execution_count": null,
   "metadata": {},
   "outputs": [],
   "source": []
  },
  {
   "cell_type": "code",
   "execution_count": 725,
   "metadata": {},
   "outputs": [],
   "source": [
    "data = np.array([[1,1,1,0,0,0],\n",
    "                 [1,0,1,0,0,0],\n",
    "                 [1,1,1,0,0,0],\n",
    "                 [0,0,1,1,1,0],\n",
    "                 [0,0,1,1,0,0],\n",
    "                 [0,0,1,1,1,0]])\n",
    "rng = np.random.RandomState(123)\n",
    "n_visible = data.shape[1]\n",
    "n_hidden = 2\n",
    "W = rng.normal(size = (n_visible, n_hidden))"
   ]
  },
  {
   "cell_type": "code",
   "execution_count": null,
   "metadata": {},
   "outputs": [],
   "source": []
  },
  {
   "cell_type": "code",
   "execution_count": 726,
   "metadata": {},
   "outputs": [],
   "source": [
    "rbm = RBM(input = data, n_visible = n_visible, n_hidden = n_hidden, W = W, numpy_rng = rng)"
   ]
  },
  {
   "cell_type": "code",
   "execution_count": 727,
   "metadata": {},
   "outputs": [
    {
     "data": {
      "image/png": "[encoded data removed]",
      "text/plain": [
       "<matplotlib.figure.Figure at 0x21537e835f8>"
      ]
     },
     "metadata": {},
     "output_type": "display_data"
    }
   ],
   "source": [
    "rbm.disp_weights()"
   ]
  },
  {
   "cell_type": "code",
   "execution_count": 728,
   "metadata": {},
   "outputs": [
    {
     "name": "stdout",
     "output_type": "stream",
     "text": [
      "training epoch 0, energy is -0.4584660137250126, error is 8.327215859276672\n",
      "training epoch 100, energy is -2.664697661480865, error is 7.463871544455282\n",
      "training epoch 200, energy is 2.919107124996601, error is 7.629709406051566\n",
      "training epoch 300, energy is 0.9970008454000263, error is 5.416844257650118\n",
      "training epoch 400, energy is 0.6046213437580388, error is 6.585641797593035\n",
      "training epoch 500, energy is -1.7751837047477665, error is 6.524610439553223\n",
      "training epoch 600, energy is -0.64498664328217, error is 5.326383620705353\n",
      "training epoch 700, energy is 2.427762947479493, error is 6.526352170985935\n",
      "training epoch 800, energy is -0.031460769369529906, error is 6.502362450214523\n",
      "training epoch 900, energy is 2.3116318420157658, error is 6.512601181364359\n"
     ]
    }
   ],
   "source": [
    "rbm.train(lr = 0.1, k = 1, n_epoch = 1000)"
   ]
  },
  {
   "cell_type": "code",
   "execution_count": 729,
   "metadata": {},
   "outputs": [
    {
     "data": {
      "image/png": "[encoded data removed]",
      "text/plain": [
       "<matplotlib.figure.Figure at 0x21537e832e8>"
      ]
     },
     "metadata": {},
     "output_type": "display_data"
    }
   ],
   "source": [
    "rbm.plot_energy()"
   ]
  },
  {
   "cell_type": "code",
   "execution_count": 730,
   "metadata": {},
   "outputs": [
    {
     "data": {
      "image/png": "[encoded data removed]",
      "text/plain": [
       "<matplotlib.figure.Figure at 0x21537e83f28>"
      ]
     },
     "metadata": {},
     "output_type": "display_data"
    }
   ],
   "source": [
    "rbm.plot_error()"
   ]
  },
  {
   "cell_type": "code",
   "execution_count": 731,
   "metadata": {},
   "outputs": [
    {
     "data": {
      "image/png": "[encoded data removed]",
      "text/plain": [
       "<matplotlib.figure.Figure at 0x21537e836a0>"
      ]
     },
     "metadata": {},
     "output_type": "display_data"
    }
   ],
   "source": [
    "rbm.disp_weights()"
   ]
  },
  {
   "cell_type": "code",
   "execution_count": 732,
   "metadata": {},
   "outputs": [],
   "source": [
    "hid_mean, hid_state = rbm.get_hid_state(data)\n",
    "vis_mean, vis_state = rbm.get_vis_state(hid_state)"
   ]
  },
  {
   "cell_type": "code",
   "execution_count": 733,
   "metadata": {},
   "outputs": [
    {
     "name": "stdout",
     "output_type": "stream",
     "text": [
      "[[0.9538188  0.9538188  0.48264586 0.48264586 0.48264586 0.48264586]\n",
      " [0.40715497 0.40715497 0.48264586 0.48264586 0.48264586 0.48264586]\n",
      " [0.96713698 0.96713698 0.48264586 0.48264586 0.48264586 0.48264586]\n",
      " [0.02191646 0.02191646 0.48264586 0.48264586 0.48264586 0.48264586]\n",
      " [0.01914872 0.01914872 0.48264586 0.48264586 0.48264586 0.48264586]\n",
      " [0.0034561  0.0034561  0.48264586 0.48264586 0.48264586 0.48264586]]\n",
      "reconstructed: \n",
      "[[1 1 1 0 1 0]\n",
      " [0 1 0 0 1 0]\n",
      " [1 1 1 0 0 0]\n",
      " [0 0 0 1 1 0]\n",
      " [0 0 0 1 1 1]\n",
      " [0 0 1 1 1 0]]\n",
      "original \n",
      "[[1 1 1 0 0 0]\n",
      " [1 0 1 0 0 0]\n",
      " [1 1 1 0 0 0]\n",
      " [0 0 1 1 1 0]\n",
      " [0 0 1 1 0 0]\n",
      " [0 0 1 1 1 0]]\n"
     ]
    }
   ],
   "source": [
    "print(vis_mean)\n",
    "print(\"reconstructed: \")\n",
    "print(vis_state)\n",
    "print(\"original \")\n",
    "print(data)"
   ]
  },
  {
   "cell_type": "code",
   "execution_count": null,
   "metadata": {},
   "outputs": [],
   "source": []
  }
 ],
 "metadata": {
  "kernelspec": {
   "display_name": "Python 3",
   "language": "python",
   "name": "python3"
  },
  "language_info": {
   "codemirror_mode": {
    "name": "ipython",
    "version": 3
   },
   "file_extension": ".py",
   "mimetype": "text/x-python",
   "name": "python",
   "nbconvert_exporter": "python",
   "pygments_lexer": "ipython3",
   "version": "3.6.4"
  }
 },
 "nbformat": 4,
 "nbformat_minor": 2
}
