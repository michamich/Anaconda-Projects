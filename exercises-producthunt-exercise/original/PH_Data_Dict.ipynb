{
 "cells": [
  {
   "cell_type": "markdown",
   "metadata": {},
   "source": [
    "## About the data\n",
    "\n",
    "### Post and User Files for Offline Analysis\n",
    "The best, most-current data files to use for offline Post and User Analysis are **PostsForAnalysis.txt** and **UsersForAnalysis.txt**. These file are hefty and will require offline statistical computing environments like Python or R to analyze. You may change the extension from .txt to .csv if you wish, as their formatting is comma-separated.\n",
    "\n",
    "### Post and User Files for Real-time Exploration on data.world\n",
    "To keep data exploration, queries, and visualizations on data.world smooth and speedy, we have randomly sampled the full **PostsForAnalysis** and **UsersForAnalysis** files down for real-time analysis. These are available below as **PostsForExploration.csv** and **UsersForExploration.csv**\n",
    "\n",
    "### AllTopics.csv\n",
    "*id* - Topic ID number - for use in Product Hunt API requests    \n",
    "*name* - Topic name / 'slug'    \n",
    "*description* - Topic description    \n",
    "*num_followers* - Total number of followers (as of 11-29-2016)    \n",
    "*num_posts* - Total number of posts (as of 11-29-2016); note that many products are posted to more than one topic    \n",
    "\n",
    "### PostsForAnalysis.txt and PostsForExploration.csv\n",
    "Columns 1 through 12 are:    \n",
    "*id* - Post ID number    \n",
    "*date* - Date in Month/Day/Year    \n",
    "*day* - 7 days of week: Sunday through Saturday    \n",
    "*created\\_at* - Date/Time in Year-Month-DayT00:00:00.000-8:00    \n",
    "*time\\_of\\_day* - 4 times of day: Morning, Afternoon, Evening, Night - described in more detail below    \n",
    "*name* - Post name    \n",
    "*tagline* - Post/product tagline    \n",
    "*thumbnail\\_type* - 4 thumbnail formats: Image, Video, Audio, Book Preview    \n",
    "*product\\_state* - 3 states: Default, Pre\\_launch, or No\\_Longer\\_Online    \n",
    "*comments\\_count* - Number of comments made on the post    \n",
    "*num_makers* - Number of makers of the product (0 denotes the maker is either not on Product Hunt or hasn't been tagged to the product)    \n",
    "*num_topics* - Number of topics in which the post was tagged    \n",
    "\n",
    "Columns 13 - 313 are all possible topics a post could be tagged within the timeframe of the data.    \n",
    "TRUE denotes the post was tagged in that topic    \n",
    "\"No data\" indicates FALSE; the post was not tagged in that topic    \n",
    "\n",
    "Columns 314 and 315 are:    \n",
    "*user\\_id* - the ID number of the user who posted the post    \n",
    "*votes\\_count* - total number of votes for the post    \n",
    "\n",
    "##### Time\\_of\\_day details\n",
    "A new '*time\\_of\\_day*' column was added, which is the time of day during which the post was created, using the following heuristic breakdown:    \n",
    "* Morning: 5am to 11:59:59.999am\n",
    "* Afternoon: 12pm to 4:59:59.999pm\n",
    "* Evening: 5pm to 8:59:59.999pm\n",
    "* Night: 9pm to 4:59:59.999am\n",
    "* NOTE: All times in America/Los_Angeles timezone\n",
    "\n",
    "### UsersForAnalysis.txt and UsersForExploration.csv\n",
    "*id* - User ID number    \n",
    "*created\\_at* - Date/Time in Year-Month-DayT00:00:00.000-8:00    \n",
    "*name* - The user's name    \n",
    "*username* - The user's Product Hunt handle    \n",
    "*headline* - User headline - typically Title and Company but can be anything or nothing at all    \n",
    "*twitter\\_username* - User's Twitter handle (in the case they signed up via Twitter)    \n",
    "*website\\_url* - User's website    \n",
    "*collections\\_count* - Total number of collections for this user    \n",
    "*followed\\_topics\\_count* - Total number of topics this user follows    \n",
    "*followers\\_count* - Number of followers this user has    \n",
    "*followings\\_count* - Number of Hunters this user follows    \n",
    "*maker\\_of\\_count* - Number of products this user has made    \n",
    "*posts\\_count* - Number of products this user has hunted    \n",
    "*votes\\_count* - Number of votes this user has submitted    \n",
    "\n",
    "### Timeframe of data\n",
    "**AllTopics.csv** contains all topics, including their total number of followers and total number of posts within those topics as of 11-29-2016    \n",
    "\n",
    "**UsersForAnalysis.txt** contains all users as of 11-30-2016, except hidden users. **UsersForExploration.csv** contains 50,000 randomly-sampled rows from **UsersForAnalysis.txt**.\n",
    "\n",
    "Although the data dump from the Product Hunt API included posts from dates 11-24-2014 to 11-23-2016, one week's worth of the most recent posts (from 11-17-2016 to 11-23-2016) were removed to create **PostsForAnalysis.txt**. This week of posts was removed, because those posts had not been given ample time to receive votes, and thus would have on average fewer votes per post. Since the data contains plenty of posts across the two years, it is okay to remove them. As **PostsForExploration.csv** contains 5,000 randomly-sampled rows from **PostsForAnalysis.txt**, it was also subject to this removal process."
   ]
  },
  {
   "cell_type": "code",
   "execution_count": null,
   "metadata": {
    "collapsed": true
   },
   "outputs": [],
   "source": []
  }
 ],
 "metadata": {
  "kernelspec": {
   "display_name": "Python 2",
   "language": "python",
   "name": "python2"
  },
  "language_info": {
   "codemirror_mode": {
    "name": "ipython",
    "version": 2
   },
   "file_extension": ".py",
   "mimetype": "text/x-python",
   "name": "python",
   "nbconvert_exporter": "python",
   "pygments_lexer": "ipython2",
   "version": "2.7.11"
  }
 },
 "nbformat": 4,
 "nbformat_minor": 2
}
