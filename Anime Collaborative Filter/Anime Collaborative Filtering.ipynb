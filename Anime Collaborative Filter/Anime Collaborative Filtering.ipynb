{
 "cells": [
  {
   "cell_type": "markdown",
   "metadata": {},
   "source": [
    "# Anime Collaborative Filtering"
   ]
  },
  {
   "cell_type": "markdown",
   "metadata": {},
   "source": [
    "This notebook tries to find the best and worst anime of all time. Data is obtained from Kaggle Data base, which is taken from MyAnimeList. It stores a database of most of Anime ever released and a list of ratings submitted by users.\n",
    "\n",
    "Kaggle Link: https://www.kaggle.com/CooperUnion/anime-recommendations-database\n",
    "\n",
    "The model we are using is a standard Collaborative Filtering with a bias term. Using the bias term, we will be evaluating which anime is the best and worst of all time. From the latent factors, we will be evaluating, after reducing the dimentionality with PCA from 50 to 3, what each of the 3 latent factors mean."
   ]
  },
  {
   "cell_type": "code",
   "execution_count": 1,
   "metadata": {},
   "outputs": [],
   "source": [
    "import pandas as pd\n",
    "import numpy as np\n",
    "from matplotlib import pyplot as plt\n",
    "\n",
    "%matplotlib inline\n",
    "%reload_ext autoreload\n",
    "%autoreload 2"
   ]
  },
  {
   "cell_type": "code",
   "execution_count": 2,
   "metadata": {},
   "outputs": [],
   "source": [
    "PATH = 'data/Anime Database/'"
   ]
  },
  {
   "cell_type": "code",
   "execution_count": 302,
   "metadata": {},
   "outputs": [],
   "source": [
    "animes = pd.read_csv(f'{PATH}anime.csv')\n",
    "ratings = pd.read_csv(f'{PATH}rating.csv')"
   ]
  },
  {
   "cell_type": "code",
   "execution_count": 303,
   "metadata": {},
   "outputs": [
    {
     "data": {
      "text/html": [
       "<div>\n",
       "<style scoped>\n",
       "    .dataframe tbody tr th:only-of-type {\n",
       "        vertical-align: middle;\n",
       "    }\n",
       "\n",
       "    .dataframe tbody tr th {\n",
       "        vertical-align: top;\n",
       "    }\n",
       "\n",
       "    .dataframe thead th {\n",
       "        text-align: right;\n",
       "    }\n",
       "</style>\n",
       "<table border=\"1\" class=\"dataframe\">\n",
       "  <thead>\n",
       "    <tr style=\"text-align: right;\">\n",
       "      <th></th>\n",
       "      <th>anime_id</th>\n",
       "      <th>name</th>\n",
       "      <th>genre</th>\n",
       "      <th>type</th>\n",
       "      <th>episodes</th>\n",
       "      <th>rating</th>\n",
       "      <th>members</th>\n",
       "    </tr>\n",
       "  </thead>\n",
       "  <tbody>\n",
       "    <tr>\n",
       "      <th>0</th>\n",
       "      <td>32281</td>\n",
       "      <td>Kimi no Na wa.</td>\n",
       "      <td>Drama, Romance, School, Supernatural</td>\n",
       "      <td>Movie</td>\n",
       "      <td>1</td>\n",
       "      <td>9.37</td>\n",
       "      <td>200630</td>\n",
       "    </tr>\n",
       "    <tr>\n",
       "      <th>1</th>\n",
       "      <td>5114</td>\n",
       "      <td>Fullmetal Alchemist: Brotherhood</td>\n",
       "      <td>Action, Adventure, Drama, Fantasy, Magic, Mili...</td>\n",
       "      <td>TV</td>\n",
       "      <td>64</td>\n",
       "      <td>9.26</td>\n",
       "      <td>793665</td>\n",
       "    </tr>\n",
       "    <tr>\n",
       "      <th>2</th>\n",
       "      <td>28977</td>\n",
       "      <td>Gintama°</td>\n",
       "      <td>Action, Comedy, Historical, Parody, Samurai, S...</td>\n",
       "      <td>TV</td>\n",
       "      <td>51</td>\n",
       "      <td>9.25</td>\n",
       "      <td>114262</td>\n",
       "    </tr>\n",
       "    <tr>\n",
       "      <th>3</th>\n",
       "      <td>9253</td>\n",
       "      <td>Steins;Gate</td>\n",
       "      <td>Sci-Fi, Thriller</td>\n",
       "      <td>TV</td>\n",
       "      <td>24</td>\n",
       "      <td>9.17</td>\n",
       "      <td>673572</td>\n",
       "    </tr>\n",
       "    <tr>\n",
       "      <th>4</th>\n",
       "      <td>9969</td>\n",
       "      <td>Gintama&amp;#039;</td>\n",
       "      <td>Action, Comedy, Historical, Parody, Samurai, S...</td>\n",
       "      <td>TV</td>\n",
       "      <td>51</td>\n",
       "      <td>9.16</td>\n",
       "      <td>151266</td>\n",
       "    </tr>\n",
       "  </tbody>\n",
       "</table>\n",
       "</div>"
      ],
      "text/plain": [
       "   anime_id                              name  \\\n",
       "0     32281                    Kimi no Na wa.   \n",
       "1      5114  Fullmetal Alchemist: Brotherhood   \n",
       "2     28977                          Gintama°   \n",
       "3      9253                       Steins;Gate   \n",
       "4      9969                     Gintama&#039;   \n",
       "\n",
       "                                               genre   type episodes  rating  \\\n",
       "0               Drama, Romance, School, Supernatural  Movie        1    9.37   \n",
       "1  Action, Adventure, Drama, Fantasy, Magic, Mili...     TV       64    9.26   \n",
       "2  Action, Comedy, Historical, Parody, Samurai, S...     TV       51    9.25   \n",
       "3                                   Sci-Fi, Thriller     TV       24    9.17   \n",
       "4  Action, Comedy, Historical, Parody, Samurai, S...     TV       51    9.16   \n",
       "\n",
       "   members  \n",
       "0   200630  \n",
       "1   793665  \n",
       "2   114262  \n",
       "3   673572  \n",
       "4   151266  "
      ]
     },
     "execution_count": 303,
     "metadata": {},
     "output_type": "execute_result"
    }
   ],
   "source": [
    "animes.head()"
   ]
  },
  {
   "cell_type": "code",
   "execution_count": 5,
   "metadata": {},
   "outputs": [
    {
     "data": {
      "text/html": [
       "<div>\n",
       "<style scoped>\n",
       "    .dataframe tbody tr th:only-of-type {\n",
       "        vertical-align: middle;\n",
       "    }\n",
       "\n",
       "    .dataframe tbody tr th {\n",
       "        vertical-align: top;\n",
       "    }\n",
       "\n",
       "    .dataframe thead th {\n",
       "        text-align: right;\n",
       "    }\n",
       "</style>\n",
       "<table border=\"1\" class=\"dataframe\">\n",
       "  <thead>\n",
       "    <tr style=\"text-align: right;\">\n",
       "      <th></th>\n",
       "      <th>user_id</th>\n",
       "      <th>anime_id</th>\n",
       "      <th>rating</th>\n",
       "    </tr>\n",
       "  </thead>\n",
       "  <tbody>\n",
       "    <tr>\n",
       "      <th>0</th>\n",
       "      <td>1</td>\n",
       "      <td>20</td>\n",
       "      <td>-1</td>\n",
       "    </tr>\n",
       "    <tr>\n",
       "      <th>1</th>\n",
       "      <td>1</td>\n",
       "      <td>24</td>\n",
       "      <td>-1</td>\n",
       "    </tr>\n",
       "    <tr>\n",
       "      <th>2</th>\n",
       "      <td>1</td>\n",
       "      <td>79</td>\n",
       "      <td>-1</td>\n",
       "    </tr>\n",
       "    <tr>\n",
       "      <th>3</th>\n",
       "      <td>1</td>\n",
       "      <td>226</td>\n",
       "      <td>-1</td>\n",
       "    </tr>\n",
       "    <tr>\n",
       "      <th>4</th>\n",
       "      <td>1</td>\n",
       "      <td>241</td>\n",
       "      <td>-1</td>\n",
       "    </tr>\n",
       "  </tbody>\n",
       "</table>\n",
       "</div>"
      ],
      "text/plain": [
       "   user_id  anime_id  rating\n",
       "0        1        20      -1\n",
       "1        1        24      -1\n",
       "2        1        79      -1\n",
       "3        1       226      -1\n",
       "4        1       241      -1"
      ]
     },
     "execution_count": 5,
     "metadata": {},
     "output_type": "execute_result"
    }
   ],
   "source": [
    "ratings.head()"
   ]
  },
  {
   "cell_type": "markdown",
   "metadata": {},
   "source": [
    "By creating a crosstab of top 15 most active user and top 15 most watched anime, we can see how the ratings table is spread and whether we should remove ratings that are -1 (watched, but no rating)"
   ]
  },
  {
   "cell_type": "code",
   "execution_count": 6,
   "metadata": {},
   "outputs": [
    {
     "data": {
      "text/html": [
       "<div>\n",
       "<style scoped>\n",
       "    .dataframe tbody tr th:only-of-type {\n",
       "        vertical-align: middle;\n",
       "    }\n",
       "\n",
       "    .dataframe tbody tr th {\n",
       "        vertical-align: top;\n",
       "    }\n",
       "\n",
       "    .dataframe thead th {\n",
       "        text-align: right;\n",
       "    }\n",
       "</style>\n",
       "<table border=\"1\" class=\"dataframe\">\n",
       "  <thead>\n",
       "    <tr style=\"text-align: right;\">\n",
       "      <th>anime_id</th>\n",
       "      <th>20</th>\n",
       "      <th>121</th>\n",
       "      <th>199</th>\n",
       "      <th>226</th>\n",
       "      <th>1535</th>\n",
       "      <th>1575</th>\n",
       "      <th>2167</th>\n",
       "      <th>2904</th>\n",
       "      <th>4224</th>\n",
       "      <th>5114</th>\n",
       "      <th>6547</th>\n",
       "      <th>8074</th>\n",
       "      <th>10620</th>\n",
       "      <th>11757</th>\n",
       "      <th>16498</th>\n",
       "    </tr>\n",
       "    <tr>\n",
       "      <th>user_id</th>\n",
       "      <th></th>\n",
       "      <th></th>\n",
       "      <th></th>\n",
       "      <th></th>\n",
       "      <th></th>\n",
       "      <th></th>\n",
       "      <th></th>\n",
       "      <th></th>\n",
       "      <th></th>\n",
       "      <th></th>\n",
       "      <th></th>\n",
       "      <th></th>\n",
       "      <th></th>\n",
       "      <th></th>\n",
       "      <th></th>\n",
       "    </tr>\n",
       "  </thead>\n",
       "  <tbody>\n",
       "    <tr>\n",
       "      <th>7345</th>\n",
       "      <td>6.0</td>\n",
       "      <td>9.0</td>\n",
       "      <td>10.0</td>\n",
       "      <td>7.0</td>\n",
       "      <td>10.0</td>\n",
       "      <td>7.0</td>\n",
       "      <td>9.0</td>\n",
       "      <td>7.0</td>\n",
       "      <td>9.0</td>\n",
       "      <td>9.0</td>\n",
       "      <td>6.0</td>\n",
       "      <td>6.0</td>\n",
       "      <td>5.0</td>\n",
       "      <td>4.0</td>\n",
       "      <td>6.0</td>\n",
       "    </tr>\n",
       "    <tr>\n",
       "      <th>12431</th>\n",
       "      <td>NaN</td>\n",
       "      <td>NaN</td>\n",
       "      <td>8.0</td>\n",
       "      <td>3.0</td>\n",
       "      <td>6.0</td>\n",
       "      <td>NaN</td>\n",
       "      <td>6.0</td>\n",
       "      <td>NaN</td>\n",
       "      <td>7.0</td>\n",
       "      <td>7.0</td>\n",
       "      <td>7.0</td>\n",
       "      <td>6.0</td>\n",
       "      <td>6.0</td>\n",
       "      <td>7.0</td>\n",
       "      <td>6.0</td>\n",
       "    </tr>\n",
       "    <tr>\n",
       "      <th>27364</th>\n",
       "      <td>8.0</td>\n",
       "      <td>8.0</td>\n",
       "      <td>NaN</td>\n",
       "      <td>7.0</td>\n",
       "      <td>-1.0</td>\n",
       "      <td>-1.0</td>\n",
       "      <td>10.0</td>\n",
       "      <td>-1.0</td>\n",
       "      <td>10.0</td>\n",
       "      <td>9.0</td>\n",
       "      <td>7.0</td>\n",
       "      <td>10.0</td>\n",
       "      <td>9.0</td>\n",
       "      <td>10.0</td>\n",
       "      <td>-1.0</td>\n",
       "    </tr>\n",
       "    <tr>\n",
       "      <th>28521</th>\n",
       "      <td>7.0</td>\n",
       "      <td>8.0</td>\n",
       "      <td>10.0</td>\n",
       "      <td>NaN</td>\n",
       "      <td>9.0</td>\n",
       "      <td>-1.0</td>\n",
       "      <td>10.0</td>\n",
       "      <td>-1.0</td>\n",
       "      <td>9.0</td>\n",
       "      <td>10.0</td>\n",
       "      <td>10.0</td>\n",
       "      <td>7.0</td>\n",
       "      <td>8.0</td>\n",
       "      <td>6.0</td>\n",
       "      <td>3.0</td>\n",
       "    </tr>\n",
       "    <tr>\n",
       "      <th>40604</th>\n",
       "      <td>-1.0</td>\n",
       "      <td>-1.0</td>\n",
       "      <td>-1.0</td>\n",
       "      <td>-1.0</td>\n",
       "      <td>-1.0</td>\n",
       "      <td>8.0</td>\n",
       "      <td>-1.0</td>\n",
       "      <td>10.0</td>\n",
       "      <td>-1.0</td>\n",
       "      <td>-1.0</td>\n",
       "      <td>-1.0</td>\n",
       "      <td>-1.0</td>\n",
       "      <td>9.0</td>\n",
       "      <td>9.0</td>\n",
       "      <td>8.0</td>\n",
       "    </tr>\n",
       "    <tr>\n",
       "      <th>42635</th>\n",
       "      <td>7.0</td>\n",
       "      <td>8.0</td>\n",
       "      <td>8.0</td>\n",
       "      <td>8.0</td>\n",
       "      <td>9.0</td>\n",
       "      <td>7.0</td>\n",
       "      <td>5.0</td>\n",
       "      <td>7.0</td>\n",
       "      <td>7.0</td>\n",
       "      <td>6.0</td>\n",
       "      <td>6.0</td>\n",
       "      <td>6.0</td>\n",
       "      <td>7.0</td>\n",
       "      <td>7.0</td>\n",
       "      <td>7.0</td>\n",
       "    </tr>\n",
       "    <tr>\n",
       "      <th>45659</th>\n",
       "      <td>8.0</td>\n",
       "      <td>8.0</td>\n",
       "      <td>9.0</td>\n",
       "      <td>8.0</td>\n",
       "      <td>8.0</td>\n",
       "      <td>9.0</td>\n",
       "      <td>10.0</td>\n",
       "      <td>8.0</td>\n",
       "      <td>10.0</td>\n",
       "      <td>10.0</td>\n",
       "      <td>7.0</td>\n",
       "      <td>7.0</td>\n",
       "      <td>9.0</td>\n",
       "      <td>8.0</td>\n",
       "      <td>9.0</td>\n",
       "    </tr>\n",
       "    <tr>\n",
       "      <th>48766</th>\n",
       "      <td>-1.0</td>\n",
       "      <td>-1.0</td>\n",
       "      <td>-1.0</td>\n",
       "      <td>-1.0</td>\n",
       "      <td>-1.0</td>\n",
       "      <td>-1.0</td>\n",
       "      <td>-1.0</td>\n",
       "      <td>-1.0</td>\n",
       "      <td>-1.0</td>\n",
       "      <td>-1.0</td>\n",
       "      <td>-1.0</td>\n",
       "      <td>-1.0</td>\n",
       "      <td>-1.0</td>\n",
       "      <td>-1.0</td>\n",
       "      <td>-1.0</td>\n",
       "    </tr>\n",
       "    <tr>\n",
       "      <th>51693</th>\n",
       "      <td>NaN</td>\n",
       "      <td>8.0</td>\n",
       "      <td>8.0</td>\n",
       "      <td>7.0</td>\n",
       "      <td>9.0</td>\n",
       "      <td>9.0</td>\n",
       "      <td>7.0</td>\n",
       "      <td>9.0</td>\n",
       "      <td>9.0</td>\n",
       "      <td>10.0</td>\n",
       "      <td>8.0</td>\n",
       "      <td>NaN</td>\n",
       "      <td>7.0</td>\n",
       "      <td>8.0</td>\n",
       "      <td>8.0</td>\n",
       "    </tr>\n",
       "    <tr>\n",
       "      <th>53492</th>\n",
       "      <td>8.0</td>\n",
       "      <td>9.0</td>\n",
       "      <td>10.0</td>\n",
       "      <td>8.0</td>\n",
       "      <td>9.0</td>\n",
       "      <td>9.0</td>\n",
       "      <td>10.0</td>\n",
       "      <td>9.0</td>\n",
       "      <td>10.0</td>\n",
       "      <td>10.0</td>\n",
       "      <td>9.0</td>\n",
       "      <td>8.0</td>\n",
       "      <td>9.0</td>\n",
       "      <td>9.0</td>\n",
       "      <td>10.0</td>\n",
       "    </tr>\n",
       "    <tr>\n",
       "      <th>53698</th>\n",
       "      <td>NaN</td>\n",
       "      <td>8.0</td>\n",
       "      <td>8.0</td>\n",
       "      <td>9.0</td>\n",
       "      <td>7.0</td>\n",
       "      <td>9.0</td>\n",
       "      <td>10.0</td>\n",
       "      <td>9.0</td>\n",
       "      <td>8.0</td>\n",
       "      <td>NaN</td>\n",
       "      <td>6.0</td>\n",
       "      <td>7.0</td>\n",
       "      <td>7.0</td>\n",
       "      <td>9.0</td>\n",
       "      <td>8.0</td>\n",
       "    </tr>\n",
       "    <tr>\n",
       "      <th>57620</th>\n",
       "      <td>6.0</td>\n",
       "      <td>10.0</td>\n",
       "      <td>10.0</td>\n",
       "      <td>8.0</td>\n",
       "      <td>10.0</td>\n",
       "      <td>8.0</td>\n",
       "      <td>10.0</td>\n",
       "      <td>8.0</td>\n",
       "      <td>10.0</td>\n",
       "      <td>10.0</td>\n",
       "      <td>10.0</td>\n",
       "      <td>8.0</td>\n",
       "      <td>8.0</td>\n",
       "      <td>9.0</td>\n",
       "      <td>9.0</td>\n",
       "    </tr>\n",
       "    <tr>\n",
       "      <th>59643</th>\n",
       "      <td>7.0</td>\n",
       "      <td>9.0</td>\n",
       "      <td>10.0</td>\n",
       "      <td>10.0</td>\n",
       "      <td>10.0</td>\n",
       "      <td>10.0</td>\n",
       "      <td>10.0</td>\n",
       "      <td>10.0</td>\n",
       "      <td>9.0</td>\n",
       "      <td>9.0</td>\n",
       "      <td>9.0</td>\n",
       "      <td>9.0</td>\n",
       "      <td>7.0</td>\n",
       "      <td>8.0</td>\n",
       "      <td>9.0</td>\n",
       "    </tr>\n",
       "    <tr>\n",
       "      <th>65840</th>\n",
       "      <td>8.0</td>\n",
       "      <td>9.0</td>\n",
       "      <td>10.0</td>\n",
       "      <td>8.0</td>\n",
       "      <td>10.0</td>\n",
       "      <td>10.0</td>\n",
       "      <td>10.0</td>\n",
       "      <td>10.0</td>\n",
       "      <td>9.0</td>\n",
       "      <td>8.0</td>\n",
       "      <td>9.0</td>\n",
       "      <td>9.0</td>\n",
       "      <td>7.0</td>\n",
       "      <td>9.0</td>\n",
       "      <td>8.0</td>\n",
       "    </tr>\n",
       "    <tr>\n",
       "      <th>66021</th>\n",
       "      <td>-1.0</td>\n",
       "      <td>-1.0</td>\n",
       "      <td>-1.0</td>\n",
       "      <td>-1.0</td>\n",
       "      <td>-1.0</td>\n",
       "      <td>-1.0</td>\n",
       "      <td>-1.0</td>\n",
       "      <td>-1.0</td>\n",
       "      <td>-1.0</td>\n",
       "      <td>-1.0</td>\n",
       "      <td>-1.0</td>\n",
       "      <td>-1.0</td>\n",
       "      <td>-1.0</td>\n",
       "      <td>-1.0</td>\n",
       "      <td>-1.0</td>\n",
       "    </tr>\n",
       "  </tbody>\n",
       "</table>\n",
       "</div>"
      ],
      "text/plain": [
       "anime_id  20     121    199    226    1535   1575   2167   2904   4224   \\\n",
       "user_id                                                                   \n",
       "7345        6.0    9.0   10.0    7.0   10.0    7.0    9.0    7.0    9.0   \n",
       "12431       NaN    NaN    8.0    3.0    6.0    NaN    6.0    NaN    7.0   \n",
       "27364       8.0    8.0    NaN    7.0   -1.0   -1.0   10.0   -1.0   10.0   \n",
       "28521       7.0    8.0   10.0    NaN    9.0   -1.0   10.0   -1.0    9.0   \n",
       "40604      -1.0   -1.0   -1.0   -1.0   -1.0    8.0   -1.0   10.0   -1.0   \n",
       "42635       7.0    8.0    8.0    8.0    9.0    7.0    5.0    7.0    7.0   \n",
       "45659       8.0    8.0    9.0    8.0    8.0    9.0   10.0    8.0   10.0   \n",
       "48766      -1.0   -1.0   -1.0   -1.0   -1.0   -1.0   -1.0   -1.0   -1.0   \n",
       "51693       NaN    8.0    8.0    7.0    9.0    9.0    7.0    9.0    9.0   \n",
       "53492       8.0    9.0   10.0    8.0    9.0    9.0   10.0    9.0   10.0   \n",
       "53698       NaN    8.0    8.0    9.0    7.0    9.0   10.0    9.0    8.0   \n",
       "57620       6.0   10.0   10.0    8.0   10.0    8.0   10.0    8.0   10.0   \n",
       "59643       7.0    9.0   10.0   10.0   10.0   10.0   10.0   10.0    9.0   \n",
       "65840       8.0    9.0   10.0    8.0   10.0   10.0   10.0   10.0    9.0   \n",
       "66021      -1.0   -1.0   -1.0   -1.0   -1.0   -1.0   -1.0   -1.0   -1.0   \n",
       "\n",
       "anime_id  5114   6547   8074   10620  11757  16498  \n",
       "user_id                                             \n",
       "7345        9.0    6.0    6.0    5.0    4.0    6.0  \n",
       "12431       7.0    7.0    6.0    6.0    7.0    6.0  \n",
       "27364       9.0    7.0   10.0    9.0   10.0   -1.0  \n",
       "28521      10.0   10.0    7.0    8.0    6.0    3.0  \n",
       "40604      -1.0   -1.0   -1.0    9.0    9.0    8.0  \n",
       "42635       6.0    6.0    6.0    7.0    7.0    7.0  \n",
       "45659      10.0    7.0    7.0    9.0    8.0    9.0  \n",
       "48766      -1.0   -1.0   -1.0   -1.0   -1.0   -1.0  \n",
       "51693      10.0    8.0    NaN    7.0    8.0    8.0  \n",
       "53492      10.0    9.0    8.0    9.0    9.0   10.0  \n",
       "53698       NaN    6.0    7.0    7.0    9.0    8.0  \n",
       "57620      10.0   10.0    8.0    8.0    9.0    9.0  \n",
       "59643       9.0    9.0    9.0    7.0    8.0    9.0  \n",
       "65840       8.0    9.0    9.0    7.0    9.0    8.0  \n",
       "66021      -1.0   -1.0   -1.0   -1.0   -1.0   -1.0  "
      ]
     },
     "execution_count": 6,
     "metadata": {},
     "output_type": "execute_result"
    }
   ],
   "source": [
    "g = ratings.groupby('user_id')['rating'].count()\n",
    "topUsers = g.sort_values(ascending=False)[:15]\n",
    "\n",
    "g = ratings.groupby('anime_id')['rating'].count()\n",
    "topAnimes = g.sort_values(ascending = False)[:15]\n",
    "\n",
    "top_r = ratings.join(topUsers, rsuffix = '_r', how = 'inner', on = 'user_id')\n",
    "top_r = top_r.join(topAnimes, rsuffix = '_r', how = 'inner', on = 'anime_id')\n",
    "\n",
    "pd.crosstab(top_r.user_id, top_r.anime_id, top_r.rating, aggfunc = np.sum)"
   ]
  },
  {
   "cell_type": "markdown",
   "metadata": {},
   "source": [
    "As can be seen above, some of the cells are marked -1. This indicates that the user watched the show, but did not put a rating.\n",
    "\n",
    "Initially, I decided that it if the user watched, but did not assign any rating, it's replaced by the mean. The justification is that if the user watched the show and did not put any rating, it can be considered just an average anime not worth the effort to rate. Later I discovered that this is not a good approach."
   ]
  },
  {
   "cell_type": "code",
   "execution_count": 126,
   "metadata": {},
   "outputs": [],
   "source": [
    "row = ratings[ratings.rating > 0]\n",
    "mean_rating = np.mean(row.rating)"
   ]
  },
  {
   "cell_type": "code",
   "execution_count": 8,
   "metadata": {},
   "outputs": [],
   "source": [
    "def replace_mean (x):\n",
    "    if x < 0: return mean_rating\n",
    "    else: return x"
   ]
  },
  {
   "cell_type": "code",
   "execution_count": 9,
   "metadata": {},
   "outputs": [],
   "source": [
    "ratings['rating'] = ratings['rating'].apply(lambda x: replace_mean(x))"
   ]
  },
  {
   "cell_type": "markdown",
   "metadata": {},
   "source": [
    "# Collaborative Filtering"
   ]
  },
  {
   "cell_type": "markdown",
   "metadata": {},
   "source": [
    "Here we implemented a basic collab filtering model using the fast.ai library. The library itself is very comprehensive, with an embedding dot bias model as the default model in the learner and an implementation of ADAM as the optimizer. \n",
    "\n",
    "As such, this is a good benchmark to aim towards as we move on to implementing our own models later in the notebook. \n",
    "\n",
    "PS: Also helps that importing fast.ai library also imports the appropriate pytorch library :3"
   ]
  },
  {
   "cell_type": "code",
   "execution_count": 10,
   "metadata": {},
   "outputs": [],
   "source": [
    "from fastai.learner import *\n",
    "from fastai.column_data import *"
   ]
  },
  {
   "cell_type": "code",
   "execution_count": 11,
   "metadata": {},
   "outputs": [],
   "source": [
    "val_idxs = get_cv_idxs(len(ratings))\n",
    "wd = 2e-4\n",
    "n_factors = 50\n",
    "bs = 64"
   ]
  },
  {
   "cell_type": "code",
   "execution_count": 12,
   "metadata": {},
   "outputs": [
    {
     "data": {
      "text/plain": [
       "True"
      ]
     },
     "execution_count": 12,
     "metadata": {},
     "output_type": "execute_result"
    }
   ],
   "source": [
    "torch.cuda.is_available()\n",
    "torch.backends.cudnn.enabled"
   ]
  },
  {
   "cell_type": "code",
   "execution_count": 13,
   "metadata": {},
   "outputs": [],
   "source": [
    "cf = CollabFilterDataset.from_data_frame(PATH, ratings, 'user_id', 'anime_id', 'rating')\n",
    "learn = cf.get_learner(n_factors, val_idxs, bs, opt_fn = optim.Adam)"
   ]
  },
  {
   "cell_type": "markdown",
   "metadata": {},
   "source": [
    "After building the model, we find the appropriate LR"
   ]
  },
  {
   "cell_type": "code",
   "execution_count": null,
   "metadata": {},
   "outputs": [],
   "source": [
    "learn.lr_find()"
   ]
  },
  {
   "cell_type": "code",
   "execution_count": null,
   "metadata": {},
   "outputs": [],
   "source": [
    "learn.sched.plot(100)"
   ]
  },
  {
   "cell_type": "code",
   "execution_count": 15,
   "metadata": {},
   "outputs": [],
   "source": [
    "lr = 7e-4\n",
    "epoch = 2"
   ]
  },
  {
   "cell_type": "code",
   "execution_count": 56,
   "metadata": {},
   "outputs": [
    {
     "data": {
      "application/vnd.jupyter.widget-view+json": {
       "model_id": "0303814724b1494098e47536ef549a4e",
       "version_major": 2,
       "version_minor": 0
      },
      "text/html": [
       "<p>Failed to display Jupyter Widget of type <code>HBox</code>.</p>\n",
       "<p>\n",
       "  If you're reading this message in the Jupyter Notebook or JupyterLab Notebook, it may mean\n",
       "  that the widgets JavaScript is still loading. If this message persists, it\n",
       "  likely means that the widgets JavaScript library is either not installed or\n",
       "  not enabled. See the <a href=\"https://ipywidgets.readthedocs.io/en/stable/user_install.html\">Jupyter\n",
       "  Widgets Documentation</a> for setup instructions.\n",
       "</p>\n",
       "<p>\n",
       "  If you're reading this message in another frontend (for example, a static\n",
       "  rendering on GitHub or <a href=\"https://nbviewer.jupyter.org/\">NBViewer</a>),\n",
       "  it may mean that your frontend doesn't currently support widgets.\n",
       "</p>\n"
      ],
      "text/plain": [
       "HBox(children=(IntProgress(value=0, description='Epoch', max=3), HTML(value='')))"
      ]
     },
     "metadata": {},
     "output_type": "display_data"
    },
    {
     "name": "stdout",
     "output_type": "stream",
     "text": [
      "epoch      trn_loss   val_loss                                   \n",
      "    0      1.648363   1.620104  \n",
      "    1      1.559783   1.594456                                   \n",
      "    2      1.487496   1.599271                                   \n"
     ]
    },
    {
     "data": {
      "text/plain": [
       "[1.5992708]"
      ]
     },
     "execution_count": 56,
     "metadata": {},
     "output_type": "execute_result"
    }
   ],
   "source": [
    "learn.fit(lr, epoch, wds = wd, cycle_len = 1, cycle_mult = 2)"
   ]
  },
  {
   "cell_type": "code",
   "execution_count": 57,
   "metadata": {},
   "outputs": [
    {
     "data": {
      "text/plain": [
       "1.2646227896096132"
      ]
     },
     "execution_count": 57,
     "metadata": {},
     "output_type": "execute_result"
    }
   ],
   "source": [
    "math.sqrt(1.5992708)"
   ]
  },
  {
   "cell_type": "code",
   "execution_count": null,
   "metadata": {},
   "outputs": [],
   "source": [
    "learn.save('anime_collab')"
   ]
  },
  {
   "cell_type": "code",
   "execution_count": 17,
   "metadata": {
    "scrolled": false
   },
   "outputs": [],
   "source": [
    "learn.load('anime_collab')"
   ]
  },
  {
   "cell_type": "markdown",
   "metadata": {},
   "source": [
    "Let's look at the result. Looking at the joint plot, it seems that the model is working pretty well with the movies that are scored higher are predicted to have higher score according to our model"
   ]
  },
  {
   "cell_type": "code",
   "execution_count": 18,
   "metadata": {},
   "outputs": [],
   "source": [
    "preds = learn.predict()"
   ]
  },
  {
   "cell_type": "code",
   "execution_count": 19,
   "metadata": {},
   "outputs": [
    {
     "data": {
      "text/plain": [
       "<seaborn.axisgrid.JointGrid at 0x183c2c05dd8>"
      ]
     },
     "execution_count": 19,
     "metadata": {},
     "output_type": "execute_result"
    },
    {
     "data": {
      "image/png": "[encoded data removed]",
      "text/plain": [
       "<matplotlib.figure.Figure at 0x183c2c05c18>"
      ]
     },
     "metadata": {},
     "output_type": "display_data"
    }
   ],
   "source": [
    "y = learn.data.val_y\n",
    "sns.jointplot(preds, y, kind = 'hex', stat_func = None)"
   ]
  },
  {
   "cell_type": "markdown",
   "metadata": {},
   "source": [
    "# Creating Our Own Model"
   ]
  },
  {
   "cell_type": "markdown",
   "metadata": {},
   "source": [
    "This segment is more of a practice for my own benefit. It's to basically increase my understanding of what goes on behind the hood. \n",
    "\n",
    "The only thing that is not built froms cratch is our data model, ColumnarModelData, and the fit function, which runs controls the actual training. The EmbeddingDotBias model and the optimizer were initialized outside the fast.ai library"
   ]
  },
  {
   "cell_type": "code",
   "execution_count": 22,
   "metadata": {},
   "outputs": [],
   "source": [
    "u_uniq = ratings.user_id.unique()\n",
    "user2idx = {o:i for i, o in enumerate(u_uniq)}\n",
    "ratings.user_id = ratings.user_id.apply(lambda x: user2idx[x])\n",
    "\n",
    "a_uniq = ratings.anime_id.unique()\n",
    "anim2idx = {o:i for i, o in enumerate(a_uniq)}\n",
    "ratings.anime_id = ratings.anime_id.apply(lambda x: anim2idx[x])\n",
    "\n",
    "n_users = int(ratings.user_id.nunique())\n",
    "n_anime = int(ratings.anime_id.nunique())\n",
    "#n_factors = 50 from above"
   ]
  },
  {
   "cell_type": "markdown",
   "metadata": {},
   "source": [
    "For initialization, we can consider He initialization as described in: \n",
    "\n",
    "http://www.jefkine.com/deep/2016/08/08/initialization-of-deep-networks-case-of-rectifiers/\n",
    "\n",
    "However, in this case, we used a simple uniform distribution as initialization"
   ]
  },
  {
   "cell_type": "code",
   "execution_count": 34,
   "metadata": {},
   "outputs": [],
   "source": [
    "class EmbeddingDot(nn.Module):\n",
    "    def __init__(self, n_users, n_anime):\n",
    "        super().__init__()\n",
    "        self.u = nn.Embedding(n_users, n_factors)\n",
    "        self.a = nn.Embedding(n_anime, n_factors)\n",
    "        self.u.weight.data.uniform_(0, 0.05)\n",
    "        self.a.weight.data.uniform_(0, 0.05)\n",
    "        \n",
    "    def forward(self, cats, conts):\n",
    "        users, movies = cats[:, 0], cats[:, 1]\n",
    "        u, a = self.u(users), self.a(movies)\n",
    "        return (u*a).sum(1)"
   ]
  },
  {
   "cell_type": "code",
   "execution_count": 23,
   "metadata": {},
   "outputs": [],
   "source": [
    "x = ratings.drop(['rating'], axis = 1)\n",
    "y = ratings['rating']"
   ]
  },
  {
   "cell_type": "code",
   "execution_count": 27,
   "metadata": {},
   "outputs": [],
   "source": [
    "data = ColumnarModelData.from_data_frame(PATH, val_idxs, x, y, ['user_id', 'anime_id'], bs ,)"
   ]
  },
  {
   "cell_type": "code",
   "execution_count": 35,
   "metadata": {},
   "outputs": [],
   "source": [
    "wd = 1e-5\n",
    "model = EmbeddingDot(n_users, n_anime).cuda()\n",
    "opt = optim.SGD(model.parameters(), 1e-1, weight_decay = wd, momentum = 0.9)"
   ]
  },
  {
   "cell_type": "code",
   "execution_count": 36,
   "metadata": {},
   "outputs": [
    {
     "data": {
      "application/vnd.jupyter.widget-view+json": {
       "model_id": "bd99b5b87dff48a3ab7d544a01cc1440",
       "version_major": 2,
       "version_minor": 0
      },
      "text/html": [
       "<p>Failed to display Jupyter Widget of type <code>HBox</code>.</p>\n",
       "<p>\n",
       "  If you're reading this message in the Jupyter Notebook or JupyterLab Notebook, it may mean\n",
       "  that the widgets JavaScript is still loading. If this message persists, it\n",
       "  likely means that the widgets JavaScript library is either not installed or\n",
       "  not enabled. See the <a href=\"https://ipywidgets.readthedocs.io/en/stable/user_install.html\">Jupyter\n",
       "  Widgets Documentation</a> for setup instructions.\n",
       "</p>\n",
       "<p>\n",
       "  If you're reading this message in another frontend (for example, a static\n",
       "  rendering on GitHub or <a href=\"https://nbviewer.jupyter.org/\">NBViewer</a>),\n",
       "  it may mean that your frontend doesn't currently support widgets.\n",
       "</p>\n"
      ],
      "text/plain": [
       "HBox(children=(IntProgress(value=0, description='Epoch', max=3), HTML(value='')))"
      ]
     },
     "metadata": {},
     "output_type": "display_data"
    },
    {
     "name": "stdout",
     "output_type": "stream",
     "text": [
      "epoch      trn_loss   val_loss                                                                                         \n",
      "    0      2.013887   2.010096  \n",
      "    1      1.872379   1.937718                                                                                         \n",
      "    2      1.754884   1.906524                                                                                         \n"
     ]
    },
    {
     "data": {
      "text/plain": [
       "[1.9065237]"
      ]
     },
     "execution_count": 36,
     "metadata": {},
     "output_type": "execute_result"
    }
   ],
   "source": [
    "fit(model, data, 3, opt, F.mse_loss)"
   ]
  },
  {
   "cell_type": "code",
   "execution_count": 39,
   "metadata": {},
   "outputs": [],
   "source": [
    "min_rating, max_rating = ratings.rating.min(), ratings.rating.max()"
   ]
  },
  {
   "cell_type": "code",
   "execution_count": 41,
   "metadata": {},
   "outputs": [],
   "source": [
    "def get_emb(ni, nf):\n",
    "    e = nn.Embedding(ni, nf)\n",
    "    e.weight.data.uniform_(-0.01, 0.01)\n",
    "    return e"
   ]
  },
  {
   "cell_type": "code",
   "execution_count": 42,
   "metadata": {},
   "outputs": [],
   "source": [
    "class EmbeddingDotBias(nn.Module):\n",
    "    def __init__(self, n_users, n_anime):\n",
    "        super().__init__()\n",
    "        (self.u, self.a, self.ub, self.ab) = [get_emb(*o) for o in [\n",
    "            (n_users, n_factors), (n_anime, n_factors), (n_users, 1), (n_anime, 1)\n",
    "        ]]\n",
    "        \n",
    "    def forward(self, cats, conts):\n",
    "        users, anime = cats[:, 0], cats[:, 1]\n",
    "        ua = (self.u(users) * self.a(anime)).sum(1)\n",
    "        res = ua + self.ub(users).squeeze() + self.ab(anime).squeeze()\n",
    "        res = F.sigmoid(res) * (max_rating - min_rating) + min_rating\n",
    "        return res"
   ]
  },
  {
   "cell_type": "code",
   "execution_count": 52,
   "metadata": {},
   "outputs": [],
   "source": [
    "wd = 2e-4\n",
    "model = EmbeddingDotBias(n_users, n_anime).cuda()\n",
    "opt = optim.SGD(model.parameters(), lr = 1e-1, momentum = 0.9, weight_decay = wd)"
   ]
  },
  {
   "cell_type": "code",
   "execution_count": 53,
   "metadata": {},
   "outputs": [
    {
     "data": {
      "application/vnd.jupyter.widget-view+json": {
       "model_id": "e6a97b4ad6ab4aa1ae45aea771adc63e",
       "version_major": 2,
       "version_minor": 0
      },
      "text/html": [
       "<p>Failed to display Jupyter Widget of type <code>HBox</code>.</p>\n",
       "<p>\n",
       "  If you're reading this message in the Jupyter Notebook or JupyterLab Notebook, it may mean\n",
       "  that the widgets JavaScript is still loading. If this message persists, it\n",
       "  likely means that the widgets JavaScript library is either not installed or\n",
       "  not enabled. See the <a href=\"https://ipywidgets.readthedocs.io/en/stable/user_install.html\">Jupyter\n",
       "  Widgets Documentation</a> for setup instructions.\n",
       "</p>\n",
       "<p>\n",
       "  If you're reading this message in another frontend (for example, a static\n",
       "  rendering on GitHub or <a href=\"https://nbviewer.jupyter.org/\">NBViewer</a>),\n",
       "  it may mean that your frontend doesn't currently support widgets.\n",
       "</p>\n"
      ],
      "text/plain": [
       "HBox(children=(IntProgress(value=0, description='Epoch', max=3), HTML(value='')))"
      ]
     },
     "metadata": {},
     "output_type": "display_data"
    },
    {
     "name": "stdout",
     "output_type": "stream",
     "text": [
      "epoch      trn_loss   val_loss                                                                                         \n",
      "    0      1.582079   1.593083  \n",
      "    1      1.594015   1.598181                                                                                         \n",
      "    2      1.523659   1.587616                                                                                         \n"
     ]
    },
    {
     "data": {
      "text/plain": [
       "[1.5876161]"
      ]
     },
     "execution_count": 53,
     "metadata": {},
     "output_type": "execute_result"
    }
   ],
   "source": [
    "fit(model, data, epochs = 3, opt = opt, crit = F.mse_loss)"
   ]
  },
  {
   "cell_type": "markdown",
   "metadata": {},
   "source": [
    "As you can see, the result is very similar between the fast.ai library and our own EmbeddingDotBias model. Although not the same, it approximates the fast.ai library really well and is a good practice to understand the inner workings of the model"
   ]
  },
  {
   "cell_type": "markdown",
   "metadata": {},
   "source": [
    "# Analysis of Anime Bias Term"
   ]
  },
  {
   "cell_type": "markdown",
   "metadata": {},
   "source": [
    "To analyze the quality of an Anime based on the data we have, we are going to examine the bias term that has been trained previously. "
   ]
  },
  {
   "cell_type": "code",
   "execution_count": 58,
   "metadata": {},
   "outputs": [],
   "source": [
    "anime_names = animes.set_index('anime_id')['name'].to_dict()\n",
    "g = ratings.groupby('anime_id')['rating'].count()\n",
    "top_anime = g.sort_values(ascending = False).index.values[:3000]\n",
    "topAnimeIdx = np.array([anim2idx[o] for o in top_anime])"
   ]
  },
  {
   "cell_type": "code",
   "execution_count": 67,
   "metadata": {},
   "outputs": [
    {
     "data": {
      "text/plain": [
       "EmbeddingDotBias(\n",
       "  (u): Embedding(73515, 50)\n",
       "  (i): Embedding(11200, 50)\n",
       "  (ub): Embedding(73515, 1)\n",
       "  (ib): Embedding(11200, 1)\n",
       ")"
      ]
     },
     "execution_count": 67,
     "metadata": {},
     "output_type": "execute_result"
    }
   ],
   "source": [
    "m = learn.model; m.cuda()"
   ]
  },
  {
   "cell_type": "code",
   "execution_count": 68,
   "metadata": {},
   "outputs": [],
   "source": [
    "anime_bias = to_np(m.ib(V(topAnimeIdx)))"
   ]
  },
  {
   "cell_type": "code",
   "execution_count": 106,
   "metadata": {},
   "outputs": [],
   "source": [
    "#anime_names"
   ]
  },
  {
   "cell_type": "code",
   "execution_count": 112,
   "metadata": {},
   "outputs": [],
   "source": [
    "def get_ratings(top_anime, anime_bias):\n",
    "    res = []\n",
    "    for i, b in zip(top_anime, anime_bias):\n",
    "        try:\n",
    "            #print((b[0], anime_names[i]))\n",
    "            res.append((b[0], anime_names[i]))\n",
    "        except: \n",
    "            #print('no value in dict')\n",
    "            pass\n",
    "    return res"
   ]
  },
  {
   "cell_type": "code",
   "execution_count": 113,
   "metadata": {},
   "outputs": [],
   "source": [
    "anime_ratings = get_ratings(top_anime, anime_bias)"
   ]
  },
  {
   "cell_type": "code",
   "execution_count": 116,
   "metadata": {},
   "outputs": [
    {
     "data": {
      "text/plain": [
       "[(-1.029914,\n",
       "  'Ranma ½: Chou Musabetsu Kessen! Ranma Team vs. Densetsu no Houou'),\n",
       " (-0.28323072, 'R.O.D OVA'),\n",
       " (-0.012725143, 'Parade Parade'),\n",
       " (0.008026532, 'One Piece: Yume no Soccer Ou!'),\n",
       " (0.057985224, 'Soukou Kijo Iris'),\n",
       " (0.097601615, 'Aa! Megami-sama!: Tatakau Tsubasa'),\n",
       " (0.124928474, 'Tachiguishi Retsuden'),\n",
       " (0.13034399, 'Munto'),\n",
       " (0.13363227, 'Tokusou Kihei Dorvack'),\n",
       " (0.13951989, 'Project ARMS'),\n",
       " (0.17719121, 'Venus Versus Virus'),\n",
       " (0.18581095, 'Project A-Ko 2: Daitokuji Zaibatsu no Inbou'),\n",
       " (0.18869591, 'Uchuu no Kishi Tekkaman Blade OVA: Burning Clock'),\n",
       " (0.19492525, 'Tetsuwan Birdy'),\n",
       " (0.197627, 'Gall Force: New Era')]"
      ]
     },
     "execution_count": 116,
     "metadata": {},
     "output_type": "execute_result"
    }
   ],
   "source": [
    "sorted(anime_ratings, key = lambda x: x[0])[:15]"
   ]
  },
  {
   "cell_type": "code",
   "execution_count": 120,
   "metadata": {},
   "outputs": [
    {
     "data": {
      "text/plain": [
       "[(2.1103315, 'Vandread: The Second Stage'),\n",
       " (2.0628364, 'Kaleido Star: Legend of Phoenix - Layla Hamilton Monogatari'),\n",
       " (1.9251881, 'JoJo no Kimyou na Bouken: Adventure'),\n",
       " (1.923822, 'Uta Kata'),\n",
       " (1.8802457, 'Touhai Densetsu Akagi: Yami ni Maiorita Tensai'),\n",
       " (1.8204362, 'Piano'),\n",
       " (1.7828794, 'Harukanaru Toki no Naka de: Ajisai Yumegatari'),\n",
       " (1.7617911, 'Mahou Sensei Negima!'),\n",
       " (1.7308434, 'Be-Boy Kidnapp&#039;n Idol'),\n",
       " (1.7274147, 'Musekinin Kanchou Tylor'),\n",
       " (1.7250144, 'Strange Dawn'),\n",
       " (1.7218348, 'FLCL'),\n",
       " (1.7198435, 'Aa! Megami-sama!: Sorezore no Tsubasa'),\n",
       " (1.6900251, 'Mazinkaiser'),\n",
       " (1.6886381, 'xxxHOLiC')]"
      ]
     },
     "execution_count": 120,
     "metadata": {},
     "output_type": "execute_result"
    }
   ],
   "source": [
    "sorted(anime_ratings, key = lambda x: x[0], reverse = True)[:15]"
   ]
  },
  {
   "cell_type": "markdown",
   "metadata": {},
   "source": [
    "As evident. The result is a little bit weird... There is no way Vandread: The Second Stage is the best anime of all time. This triggers us to relook our model. I suspect that replacing negative rating with the mean from our non-negative data is not a good approach."
   ]
  },
  {
   "cell_type": "markdown",
   "metadata": {},
   "source": [
    "# Dealing with negative ratings"
   ]
  },
  {
   "cell_type": "markdown",
   "metadata": {},
   "source": [
    "## Removing negative entries"
   ]
  },
  {
   "cell_type": "markdown",
   "metadata": {},
   "source": [
    "A potentially better approach is to remove the entries. I hesitate to do so because it can impact the accuracy of the model since we are essentially reducing the size data of our input."
   ]
  },
  {
   "cell_type": "code",
   "execution_count": 133,
   "metadata": {},
   "outputs": [],
   "source": [
    "ratings_df = pd.read_csv(f'{PATH}rating.csv')\n"
   ]
  },
  {
   "cell_type": "code",
   "execution_count": 136,
   "metadata": {},
   "outputs": [
    {
     "data": {
      "text/plain": [
       "(18.896156858107716, 1476496)"
      ]
     },
     "execution_count": 136,
     "metadata": {},
     "output_type": "execute_result"
    }
   ],
   "source": [
    "row_neg = ratings_df[ratings_df.rating < 0]\n",
    "ratio_neg = len(row_neg)/len(ratings_df) * 100\n",
    "ratio_neg, (len(row_neg))"
   ]
  },
  {
   "cell_type": "markdown",
   "metadata": {},
   "source": [
    "So about 20% of the input is negative. There is still a good amount of data left if we were to remove these entries, so let's try to do that and see what happens to the result"
   ]
  },
  {
   "cell_type": "code",
   "execution_count": 138,
   "metadata": {},
   "outputs": [],
   "source": [
    "ratings_remove = ratings_df.drop(row_neg.index)"
   ]
  },
  {
   "cell_type": "code",
   "execution_count": 144,
   "metadata": {},
   "outputs": [],
   "source": [
    "val_idxs_remove = get_cv_idxs(len(ratings_remove))"
   ]
  },
  {
   "cell_type": "code",
   "execution_count": 145,
   "metadata": {},
   "outputs": [],
   "source": [
    "cf = CollabFilterDataset.from_data_frame(PATH, ratings_remove, 'user_id', 'anime_id', 'rating')\n",
    "learn = cf.get_learner(n_factors, val_idxs_remove, bs, opt_fn = optim.Adam)"
   ]
  },
  {
   "cell_type": "code",
   "execution_count": 146,
   "metadata": {},
   "outputs": [
    {
     "data": {
      "application/vnd.jupyter.widget-view+json": {
       "model_id": "e1dda357e4b44435b616ef98d7b62115",
       "version_major": 2,
       "version_minor": 0
      },
      "text/html": [
       "<p>Failed to display Jupyter Widget of type <code>HBox</code>.</p>\n",
       "<p>\n",
       "  If you're reading this message in the Jupyter Notebook or JupyterLab Notebook, it may mean\n",
       "  that the widgets JavaScript is still loading. If this message persists, it\n",
       "  likely means that the widgets JavaScript library is either not installed or\n",
       "  not enabled. See the <a href=\"https://ipywidgets.readthedocs.io/en/stable/user_install.html\">Jupyter\n",
       "  Widgets Documentation</a> for setup instructions.\n",
       "</p>\n",
       "<p>\n",
       "  If you're reading this message in another frontend (for example, a static\n",
       "  rendering on GitHub or <a href=\"https://nbviewer.jupyter.org/\">NBViewer</a>),\n",
       "  it may mean that your frontend doesn't currently support widgets.\n",
       "</p>\n"
      ],
      "text/plain": [
       "HBox(children=(IntProgress(value=0, description='Epoch', max=1), HTML(value='')))"
      ]
     },
     "metadata": {},
     "output_type": "display_data"
    },
    {
     "name": "stdout",
     "output_type": "stream",
     "text": [
      "                                                                                                                       \r"
     ]
    }
   ],
   "source": [
    "learn.lr_find()"
   ]
  },
  {
   "cell_type": "code",
   "execution_count": 147,
   "metadata": {},
   "outputs": [
    {
     "data": {
      "image/png": "[encoded data removed]",
      "text/plain": [
       "<matplotlib.figure.Figure at 0x183ed39def0>"
      ]
     },
     "metadata": {},
     "output_type": "display_data"
    }
   ],
   "source": [
    "learn.sched.plot(100)"
   ]
  },
  {
   "cell_type": "code",
   "execution_count": 148,
   "metadata": {},
   "outputs": [],
   "source": [
    "lr = 7e-4\n",
    "epoch = 2"
   ]
  },
  {
   "cell_type": "code",
   "execution_count": 149,
   "metadata": {},
   "outputs": [
    {
     "data": {
      "application/vnd.jupyter.widget-view+json": {
       "model_id": "a62998f33c664fb088b255457528fc26",
       "version_major": 2,
       "version_minor": 0
      },
      "text/html": [
       "<p>Failed to display Jupyter Widget of type <code>HBox</code>.</p>\n",
       "<p>\n",
       "  If you're reading this message in the Jupyter Notebook or JupyterLab Notebook, it may mean\n",
       "  that the widgets JavaScript is still loading. If this message persists, it\n",
       "  likely means that the widgets JavaScript library is either not installed or\n",
       "  not enabled. See the <a href=\"https://ipywidgets.readthedocs.io/en/stable/user_install.html\">Jupyter\n",
       "  Widgets Documentation</a> for setup instructions.\n",
       "</p>\n",
       "<p>\n",
       "  If you're reading this message in another frontend (for example, a static\n",
       "  rendering on GitHub or <a href=\"https://nbviewer.jupyter.org/\">NBViewer</a>),\n",
       "  it may mean that your frontend doesn't currently support widgets.\n",
       "</p>\n"
      ],
      "text/plain": [
       "HBox(children=(IntProgress(value=0, description='Epoch', max=3), HTML(value='')))"
      ]
     },
     "metadata": {},
     "output_type": "display_data"
    },
    {
     "name": "stdout",
     "output_type": "stream",
     "text": [
      "epoch      trn_loss   val_loss                                                                                         \n",
      "    0      1.824749   1.855507  \n",
      "    1      1.912379   1.810088                                                                                         \n",
      "    2      1.770779   1.819356                                                                                         \n"
     ]
    },
    {
     "data": {
      "text/plain": [
       "[1.8193558]"
      ]
     },
     "execution_count": 149,
     "metadata": {},
     "output_type": "execute_result"
    }
   ],
   "source": [
    "learn.fit(lr, epoch, wds = wd, cycle_len = 1, cycle_mult = 2)"
   ]
  },
  {
   "cell_type": "markdown",
   "metadata": {},
   "source": [
    "The loss is higher than previously, probably due the lack of a big chunk of data that is equal to the mean. However, the actual rms value (1.35) looks quite good considering the score is between 0 to 10. "
   ]
  },
  {
   "cell_type": "code",
   "execution_count": 288,
   "metadata": {},
   "outputs": [
    {
     "data": {
      "text/plain": [
       "1.3488350529253013"
      ]
     },
     "execution_count": 288,
     "metadata": {},
     "output_type": "execute_result"
    }
   ],
   "source": [
    "math.sqrt(1.819356)"
   ]
  },
  {
   "cell_type": "code",
   "execution_count": 286,
   "metadata": {},
   "outputs": [],
   "source": [
    "learn.save('anime_collab_rem')"
   ]
  },
  {
   "cell_type": "code",
   "execution_count": 287,
   "metadata": {},
   "outputs": [],
   "source": [
    "learn.load('anime_collab_rem')"
   ]
  },
  {
   "cell_type": "markdown",
   "metadata": {},
   "source": [
    "# Analyzing Bias Term II"
   ]
  },
  {
   "cell_type": "markdown",
   "metadata": {},
   "source": [
    "With our new dataset, it's time to relook the bias term once again. Also, to make the analysis easier to see, let's add a rank column"
   ]
  },
  {
   "cell_type": "code",
   "execution_count": 333,
   "metadata": {},
   "outputs": [],
   "source": [
    "animes['rank'] = animes.apply(lambda x: x.index.values + 1)"
   ]
  },
  {
   "cell_type": "code",
   "execution_count": 337,
   "metadata": {},
   "outputs": [],
   "source": [
    "anime_names = animes.set_index('anime_id')['name'].to_dict()\n",
    "anime_rank = animes.set_index('anime_id')['rank'].to_dict()\n",
    "g = ratings_remove.groupby('anime_id')['rating'].count()\n",
    "top_anime = g.sort_values(ascending = False).index.values[:n_top]\n",
    "\n",
    "anim2idx = {o: i for i, o in enumerate(ratings_remove.anime_id.unique())}\n",
    "\n",
    "topAnimeIdx = np.array([anim2idx[i] for i in top_anime])"
   ]
  },
  {
   "cell_type": "code",
   "execution_count": 357,
   "metadata": {},
   "outputs": [],
   "source": [
    "def get_ratings(top_anime, anime_bias):\n",
    "    res = []\n",
    "    for i, b in zip(top_anime, anime_bias):\n",
    "        try:\n",
    "            #print((b[0], anime_names[i]))\n",
    "            res.append((b[0], anime_names[i], 'MAL Rank: ' + str(anime_rank[i])))\n",
    "        except: \n",
    "            #print('no value in dict')\n",
    "            pass\n",
    "    return res"
   ]
  },
  {
   "cell_type": "code",
   "execution_count": 339,
   "metadata": {},
   "outputs": [
    {
     "data": {
      "text/plain": [
       "EmbeddingDotBias(\n",
       "  (u): Embedding(69600, 50)\n",
       "  (i): Embedding(9927, 50)\n",
       "  (ub): Embedding(69600, 1)\n",
       "  (ib): Embedding(9927, 1)\n",
       ")"
      ]
     },
     "execution_count": 339,
     "metadata": {},
     "output_type": "execute_result"
    }
   ],
   "source": [
    "m_rem = learn.model; m_rem.cuda()"
   ]
  },
  {
   "cell_type": "code",
   "execution_count": 340,
   "metadata": {},
   "outputs": [],
   "source": [
    "anime_bias_rem = to_np(m_rem.ib(V(topAnimeIdx)))"
   ]
  },
  {
   "cell_type": "code",
   "execution_count": 358,
   "metadata": {},
   "outputs": [],
   "source": [
    "anime_rating_rem = get_ratings(top_anime, anime_bias_rem)"
   ]
  },
  {
   "cell_type": "markdown",
   "metadata": {},
   "source": [
    "# 15 Best and Worse Anime According to MAL"
   ]
  },
  {
   "cell_type": "markdown",
   "metadata": {},
   "source": [
    "There are some interesting observations to be seen here. \n",
    "\n",
    "It would seem that there is a little bit of score bloating happenening at the top of chart. Comparing the position of the entries on the official top anime chart and this analysis, it's clear that some ranks has been shuffled.\n",
    "\n",
    "Some users tend to be overly-generous or overly-stingy in scoring entries. If enough of such user participates in the scoring process, the score reflected on the official rank can fluctuate. \n",
    "\n",
    "What the anime bias term represents is the tendency of all users giving a particular entry a higher or lower score, hence removing the biased user effect on the score. "
   ]
  },
  {
   "cell_type": "code",
   "execution_count": 359,
   "metadata": {},
   "outputs": [
    {
     "data": {
      "text/plain": [
       "[(2.335943, 'Fullmetal Alchemist: Brotherhood', 'MAL Rank: 2'),\n",
       " (2.2352605, 'Steins;Gate', 'MAL Rank: 4'),\n",
       " (2.110066, 'Clannad: After Story', 'MAL Rank: 11'),\n",
       " (2.0851614, 'Hunter x Hunter (2011)', 'MAL Rank: 7'),\n",
       " (2.0278265, 'Code Geass: Hangyaku no Lelouch R2', 'MAL Rank: 14'),\n",
       " (1.9773804, 'Gintama', 'MAL Rank: 13'),\n",
       " (1.916619, 'Gintama&#039;', 'MAL Rank: 5'),\n",
       " (1.9104565, 'Code Geass: Hangyaku no Lelouch', 'MAL Rank: 20'),\n",
       " (1.8997319, 'Tengen Toppa Gurren Lagann', 'MAL Rank: 30'),\n",
       " (1.8952312, 'Sen to Chihiro no Kamikakushi', 'MAL Rank: 16'),\n",
       " (1.8662899, 'One Punch Man', 'MAL Rank: 24'),\n",
       " (1.864013, 'Shigatsu wa Kimi no Uso', 'MAL Rank: 17'),\n",
       " (1.8475256, 'Death Note', 'MAL Rank: 41'),\n",
       " (1.8391311, 'Kimi no Na wa.', 'MAL Rank: 1'),\n",
       " (1.8386892, 'Cowboy Bebop', 'MAL Rank: 23')]"
      ]
     },
     "execution_count": 359,
     "metadata": {},
     "output_type": "execute_result"
    }
   ],
   "source": [
    "sorted(anime_rating_rem, key = lambda o: o[0], reverse = True)[:15]"
   ]
  },
  {
   "cell_type": "code",
   "execution_count": 360,
   "metadata": {},
   "outputs": [
    {
     "data": {
      "text/plain": [
       "[(-1.2376199, 'Hametsu no Mars', 'MAL Rank: 8057'),\n",
       " (-0.5716899, 'Pupa', 'MAL Rank: 8025'),\n",
       " (-0.2877884, 'Issho ni Sleeping: Sleeping with Hinako', 'MAL Rank: 7943'),\n",
       " (-0.22022736, 'Eiken: Eikenbu yori Ai wo Komete', 'MAL Rank: 7917'),\n",
       " (-0.17360754, 'Ame-iro Cocoa', 'MAL Rank: 7870'),\n",
       " (-0.15816203, 'Issho ni Training: Training with Hinako', 'MAL Rank: 7823'),\n",
       " (-0.15191877, 'Makura no Danshi', 'MAL Rank: 7819'),\n",
       " (-0.12552968, 'Osakana wa Ami no Naka', 'MAL Rank: 7711'),\n",
       " (-0.09237116, 'Boku no Pico', 'MAL Rank: 12218'),\n",
       " (-0.08896112, 'Pico x CoCo x Chico', 'MAL Rank: 12214'),\n",
       " (-0.0803521, 'Zettai Shougeki: Platonic Heart', 'MAL Rank: 7865'),\n",
       " (-0.074738584, 'Kämpfer Picture Drama', 'MAL Rank: 7353'),\n",
       " (-0.053772744, 'Legend of Duo', 'MAL Rank: 7701'),\n",
       " (-0.036306795, 'Diabolik Lovers Recap', 'MAL Rank: 7398'),\n",
       " (-0.035850298, 'Bikini Warriors', 'MAL Rank: 7527')]"
      ]
     },
     "execution_count": 360,
     "metadata": {},
     "output_type": "execute_result"
    }
   ],
   "source": [
    "sorted(anime_rating_rem, key = lambda o: o[0])[:15]"
   ]
  },
  {
   "cell_type": "markdown",
   "metadata": {},
   "source": [
    "# Closer Look at the Latent Factors"
   ]
  },
  {
   "cell_type": "markdown",
   "metadata": {},
   "source": [
    "In this segment we take a closer look at the latent factors. Latent factors are like anime put into numbers. The 50 latent factors for each entry in our embedding matrix that we have describes the entry in its entirety. Each of the factor describes an aspect of the entry. \n",
    "\n",
    "Ideally, we should look into all 50 factors and try to study each of them if we want to understnad them fully. However, I don't have that kind of time. So, we'll use a dimentionality reduction technique called PCA to squish down the 50 factors to just 3. Honestly, we can look at more, but again, time. "
   ]
  },
  {
   "cell_type": "code",
   "execution_count": 212,
   "metadata": {},
   "outputs": [
    {
     "data": {
      "text/plain": [
       "(3000, 50)"
      ]
     },
     "execution_count": 212,
     "metadata": {},
     "output_type": "execute_result"
    }
   ],
   "source": [
    "anime_emb = to_np(m_rem.i(V(topAnimeIdx)))\n",
    "anime_emb.shape"
   ]
  },
  {
   "cell_type": "code",
   "execution_count": 227,
   "metadata": {},
   "outputs": [],
   "source": [
    "from sklearn.decomposition import PCA\n",
    "pca = PCA(n_components = 3)\n",
    "anime_pca = pca.fit(anime_emb.T).components_"
   ]
  },
  {
   "cell_type": "code",
   "execution_count": 247,
   "metadata": {},
   "outputs": [],
   "source": [
    "def get_fac(fac):\n",
    "    res = []\n",
    "    for f, i in zip(fac, top_anime):\n",
    "        try:\n",
    "            res.append((f, anime_names[i]))\n",
    "        except: \n",
    "            pass\n",
    "    return res"
   ]
  },
  {
   "cell_type": "markdown",
   "metadata": {},
   "source": [
    "### First Latent Factor"
   ]
  },
  {
   "cell_type": "markdown",
   "metadata": {},
   "source": [
    "First latent factor seems to indicate how much of an action vs dialog-driven/slice of life. We can see more action-oriented titles like SAO, Highschool of the Dead, Elfen Lied, etc at the top of the group. At the other end, we have more dialog-driven titles like Kino no Tabi, Showa Genroku Rakugo Shinjuu, and Mushishi that have slower pace, more plot driven, and generally more mature themes. "
   ]
  },
  {
   "cell_type": "code",
   "execution_count": 248,
   "metadata": {},
   "outputs": [],
   "source": [
    "fac0 = anime_pca[0]\n",
    "anime_comp = get_fac(fac0)"
   ]
  },
  {
   "cell_type": "code",
   "execution_count": 250,
   "metadata": {},
   "outputs": [
    {
     "data": {
      "text/plain": [
       "[(0.20742454, 'Sword Art Online'),\n",
       " (0.16075054, 'Highschool of the Dead'),\n",
       " (0.12377403, 'Rosario to Vampire'),\n",
       " (0.12147653, 'Elfen Lied'),\n",
       " (0.11832247, 'High School DxD'),\n",
       " (0.11537564, 'Guilty Crown'),\n",
       " (0.11502026, 'Mirai Nikki (TV)'),\n",
       " (0.11038328, 'Zero no Tsukaima'),\n",
       " (0.1051308, 'Zero no Tsukaima: Princesses no Rondo'),\n",
       " (0.10414142, 'Sword Art Online II')]"
      ]
     },
     "execution_count": 250,
     "metadata": {},
     "output_type": "execute_result"
    }
   ],
   "source": [
    "sorted(anime_comp, key = lambda x: x[0], reverse = True)[:10]"
   ]
  },
  {
   "cell_type": "code",
   "execution_count": 251,
   "metadata": {},
   "outputs": [
    {
     "data": {
      "text/plain": [
       "[(-0.010582777, 'Ginga Eiyuu Densetsu'),\n",
       " (-0.009296439, 'Yojouhan Shinwa Taikei'),\n",
       " (-0.0077025536, 'Shouwa Genroku Rakugo Shinjuu'),\n",
       " (-0.007567245, 'Kino no Tabi: The Beautiful World'),\n",
       " (-0.0075264666, 'Uchouten Kazoku'),\n",
       " (-0.0072735753, 'Ghost in the Shell'),\n",
       " (-0.006105613, 'Mushishi'),\n",
       " (-0.0060406975, 'Jinrui wa Suitai Shimashita'),\n",
       " (-0.005647008, 'Aria The Origination'),\n",
       " (-0.005600044, 'Aria The Origination: Sono Choppiri Himitsu no Basho ni...')]"
      ]
     },
     "execution_count": 251,
     "metadata": {},
     "output_type": "execute_result"
    }
   ],
   "source": [
    "sorted(anime_comp, key = lambda x: x[0], )[:10]"
   ]
  },
  {
   "cell_type": "markdown",
   "metadata": {},
   "source": [
    "### Second Latent Factor"
   ]
  },
  {
   "cell_type": "markdown",
   "metadata": {},
   "source": [
    "I genuinely have no idea what this latent factor means."
   ]
  },
  {
   "cell_type": "code",
   "execution_count": 253,
   "metadata": {},
   "outputs": [],
   "source": [
    "fac1 = anime_pca[1]\n",
    "anime_comp2 = get_fac(fac1)"
   ]
  },
  {
   "cell_type": "code",
   "execution_count": 254,
   "metadata": {},
   "outputs": [
    {
     "data": {
      "text/plain": [
       "[(0.19456829, 'Sword Art Online'),\n",
       " (0.15723237, 'High School DxD'),\n",
       " (0.13860632, 'IS: Infinite Stratos'),\n",
       " (0.09829577, 'Guilty Crown'),\n",
       " (0.0861268, 'Tasogare Otome x Amnesia'),\n",
       " (0.084085666, 'To LOVE-Ru'),\n",
       " (0.08176879, 'No Game No Life'),\n",
       " (0.08113842, 'K'),\n",
       " (0.07924867, 'Rosario to Vampire Capu2'),\n",
       " (0.07790056, 'School Days')]"
      ]
     },
     "execution_count": 254,
     "metadata": {},
     "output_type": "execute_result"
    }
   ],
   "source": [
    "sorted(anime_comp2, key = lambda x: x[0], reverse = True)[:10]"
   ]
  },
  {
   "cell_type": "code",
   "execution_count": 255,
   "metadata": {},
   "outputs": [
    {
     "data": {
      "text/plain": [
       "[(-0.11985081, 'Soul Eater'),\n",
       " (-0.09659936, 'Mondaiji-tachi ga Isekai kara Kuru Sou Desu yo?'),\n",
       " (-0.095345676, 'Ore no Imouto ga Konnani Kawaii Wake ga Nai'),\n",
       " (-0.08861695, 'Chuunibyou demo Koi ga Shitai!'),\n",
       " (-0.087408625, 'IS: Infinite Stratos 2'),\n",
       " (-0.08448674, 'MM!'),\n",
       " (-0.08137746, 'Overlord'),\n",
       " (-0.08005196, 'Naruto'),\n",
       " (-0.07635123, 'Fate/stay night'),\n",
       " (-0.07525923, 'Mangaka-san to Assistant-san to The Animation')]"
      ]
     },
     "execution_count": 255,
     "metadata": {},
     "output_type": "execute_result"
    }
   ],
   "source": [
    "sorted(anime_comp2, key = lambda x: x[0])[:10]"
   ]
  },
  {
   "cell_type": "markdown",
   "metadata": {},
   "source": [
    "### Third Latent Factor"
   ]
  },
  {
   "cell_type": "markdown",
   "metadata": {},
   "source": [
    "I also have no idea what this factor means.... If any of you knows what this means, please tell me."
   ]
  },
  {
   "cell_type": "code",
   "execution_count": 264,
   "metadata": {},
   "outputs": [],
   "source": [
    "fac2 = anime_pca[2]\n",
    "anime_comp3 = get_fac(fac2)"
   ]
  },
  {
   "cell_type": "code",
   "execution_count": 259,
   "metadata": {},
   "outputs": [
    {
     "data": {
      "text/plain": [
       "[(0.12027476, 'Another'),\n",
       " (0.11965621, 'Ore no Imouto ga Konnani Kawaii Wake ga Nai'),\n",
       " (0.106103815, 'Ore no Imouto ga Konnani Kawaii Wake ga Nai. Specials'),\n",
       " (0.10596142, 'Baka to Test to Shoukanjuu'),\n",
       " (0.09354161, 'No Game No Life'),\n",
       " (0.09159202, 'Omamori Himari'),\n",
       " (0.09143215, 'Love Live! School Idol Project'),\n",
       " (0.08545451, 'Zero no Tsukaima: Futatsuki no Kishi'),\n",
       " (0.08460391, 'Boku wa Tomodachi ga Sukunai Next'),\n",
       " (0.08344803, 'To LOVE-Ru')]"
      ]
     },
     "execution_count": 259,
     "metadata": {},
     "output_type": "execute_result"
    }
   ],
   "source": [
    "sorted(anime_comp3, key = lambda x: x[0], reverse = True)[:10]"
   ]
  },
  {
   "cell_type": "code",
   "execution_count": 258,
   "metadata": {},
   "outputs": [
    {
     "data": {
      "text/plain": [
       "[(-0.115013175, 'Rosario to Vampire Capu2'),\n",
       " (-0.10454094, 'Kyoukai no Kanata'),\n",
       " (-0.100915134, 'School Days'),\n",
       " (-0.09701901, 'Deadman Wonderland'),\n",
       " (-0.09490358, 'K-On!'),\n",
       " (-0.09343409, 'Accel World'),\n",
       " (-0.0871439, 'Black Bullet'),\n",
       " (-0.086815275, 'Tokyo Ghoul √A'),\n",
       " (-0.08158787, 'Ore no Imouto ga Konnani Kawaii Wake ga Nai.'),\n",
       " (-0.08104054, 'IS: Infinite Stratos')]"
      ]
     },
     "execution_count": 258,
     "metadata": {},
     "output_type": "execute_result"
    }
   ],
   "source": [
    "sorted(anime_comp3, key = lambda x: x[0])[:10]"
   ]
  },
  {
   "cell_type": "markdown",
   "metadata": {},
   "source": [
    "### 2D Visual Representation of the Latent Factors"
   ]
  },
  {
   "cell_type": "markdown",
   "metadata": {},
   "source": [
    "Here we try to plot a 2D representation of the Latent Factors. It is plotted from 50 randomly picked entries out of the top 1000 watched anime. Each point represents the 50 latent factors that we trained earlier, squished into a 2D vector. Supposedly, anime that are closer together are similar in nature. You can say the distance between two points is directly proportional to how different they are from one another. \n",
    "\n",
    "If you think this is vague and very qualitative, it's because it is. This is the coolest bit about Neural Network, or Machine Learning in general. We are putting numbers to qualities; quantifying qualities of an entity. Amazing, right?\n",
    "\n",
    "Honestly, this is more of an exercise than actual analysis since I don't actually have enough contextual knowledge to understand the plot, but please tell me if you can actually deduce something.\n",
    "\n"
   ]
  },
  {
   "cell_type": "code",
   "execution_count": 274,
   "metadata": {},
   "outputs": [],
   "source": [
    "pca2D = PCA(n_components = 2)\n",
    "anime_pca2D = pca2D.fit(anime_emb.T).components_"
   ]
  },
  {
   "cell_type": "code",
   "execution_count": 276,
   "metadata": {},
   "outputs": [],
   "source": [
    "fac02D = anime_pca2D[0]\n",
    "fac12D = anime_pca2D[1]"
   ]
  },
  {
   "cell_type": "code",
   "execution_count": 285,
   "metadata": {},
   "outputs": [
    {
     "data": {
      "image/png": "[encoded data removed]",
      "text/plain": [
       "<matplotlib.figure.Figure at 0x183afe6ba20>"
      ]
     },
     "metadata": {},
     "output_type": "display_data"
    }
   ],
   "source": [
    "idx = np.random.choice(len(top_anime[:1000]), 50, replace = False)\n",
    "X = fac02D[idx]\n",
    "Y = fac12D[idx]\n",
    "\n",
    "plt.figure(figsize = (15,15))\n",
    "plt.scatter(X, Y)\n",
    "for i, x, y in zip(top_anime[idx], X, Y):\n",
    "    plt.text(x, y, anime_names[i], color = np.random.rand(3)*0.7, fontsize = 11)\n",
    "    \n",
    "plt.show()"
   ]
  },
  {
   "cell_type": "code",
   "execution_count": null,
   "metadata": {},
   "outputs": [],
   "source": []
  },
  {
   "cell_type": "code",
   "execution_count": null,
   "metadata": {},
   "outputs": [],
   "source": []
  },
  {
   "cell_type": "code",
   "execution_count": null,
   "metadata": {},
   "outputs": [],
   "source": []
  }
 ],
 "metadata": {
  "kernelspec": {
   "display_name": "Python 3",
   "language": "python",
   "name": "python3"
  },
  "language_info": {
   "codemirror_mode": {
    "name": "ipython",
    "version": 3
   },
   "file_extension": ".py",
   "mimetype": "text/x-python",
   "name": "python",
   "nbconvert_exporter": "python",
   "pygments_lexer": "ipython3",
   "version": "3.6.4"
  }
 },
 "nbformat": 4,
 "nbformat_minor": 2
}
