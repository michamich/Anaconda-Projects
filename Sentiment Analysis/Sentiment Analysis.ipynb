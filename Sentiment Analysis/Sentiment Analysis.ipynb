{
 "cells": [
  {
   "cell_type": "code",
   "execution_count": 11,
   "metadata": {},
   "outputs": [],
   "source": [
    "import tweepy\n",
    "from textblob import TextBlob\n",
    "import pandas as pd"
   ]
  },
  {
   "cell_type": "markdown",
   "metadata": {},
   "source": [
    "Set Twitter consumer and access tokens and authenticate into twitter"
   ]
  },
  {
   "cell_type": "code",
   "execution_count": 12,
   "metadata": {},
   "outputs": [],
   "source": [
    "consumer_key = 'icEJq2vHiPF2TuTiKDgBZTAEh'\n",
    "consumer_secret = 'pRQFyMEZUFL1okQJH9poHddjBUV4QhR1JYSftA1qXXpaPtLQKc'\n",
    "\n",
    "access_token = '1579710601-LdzEJG7o3YAeGFPnk43WLIZRogiaz3Qbvw8v5wC'\n",
    "access_token_secret = '3svnZ3iq8AIUFiGK5VWpO6V0jlKF8mksdiNKM9qYZTwTp'\n",
    "\n",
    "auth = tweepy.OAuthHandler(consumer_key, consumer_secret)\n",
    "auth.set_access_token(access_token, access_token_secret)\n",
    "\n",
    "api = tweepy.API(auth)"
   ]
  },
  {
   "cell_type": "code",
   "execution_count": 29,
   "metadata": {},
   "outputs": [],
   "source": [
    "public_tweets = api.search('Trump')\n",
    "tweets = pd.DataFrame([])\n",
    "\n",
    "for tweet in public_tweets:\n",
    "    text = tweet.text\n",
    "    \n",
    "    analysis = TextBlob(tweet.text)\n",
    "    polarity = analysis.sentiment.polarity\n",
    "    \n",
    "    if polarity > 0:\n",
    "        data = [[text, 'Positive']]\n",
    "    else:\n",
    "        data = [[text, 'Negative']]\n",
    "    \n",
    "    tweets = tweets.append(data)\n",
    "    "
   ]
  },
  {
   "cell_type": "code",
   "execution_count": 35,
   "metadata": {},
   "outputs": [],
   "source": [
    "tweets.columns = ['tweet', 'polarity']\n",
    "tweets.reset_index(drop = True)\n",
    "\n",
    "tweets.to_csv('sentiment analysis.csv')"
   ]
  },
  {
   "cell_type": "code",
   "execution_count": null,
   "metadata": {},
   "outputs": [],
   "source": []
  },
  {
   "cell_type": "code",
   "execution_count": null,
   "metadata": {},
   "outputs": [],
   "source": []
  }
 ],
 "metadata": {
  "kernelspec": {
   "display_name": "Python 3",
   "language": "python",
   "name": "python3"
  },
  "language_info": {
   "codemirror_mode": {
    "name": "ipython",
    "version": 3
   },
   "file_extension": ".py",
   "mimetype": "text/x-python",
   "name": "python",
   "nbconvert_exporter": "python",
   "pygments_lexer": "ipython3",
   "version": "3.6.3"
  }
 },
 "nbformat": 4,
 "nbformat_minor": 2
}
