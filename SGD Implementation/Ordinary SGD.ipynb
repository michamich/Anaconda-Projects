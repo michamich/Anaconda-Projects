{
 "cells": [
  {
   "cell_type": "markdown",
   "metadata": {},
   "source": [
    "Importing standard library for data manipulation. Pandas is redundant in this implementation, but is really handy for manipulating csv files that can be used to extend this implementation"
   ]
  },
  {
   "cell_type": "code",
   "execution_count": 2,
   "metadata": {},
   "outputs": [],
   "source": [
    "import numpy as np\n",
    "import pandas as pd\n",
    "\n",
    "from matplotlib import pyplot as plt"
   ]
  },
  {
   "cell_type": "markdown",
   "metadata": {},
   "source": [
    "Sample data is created by adding gaussian noise to a linear model with y = a_mod * X + b_mod. Different initial condition can be chosen. Since this is ordinary SGD without momentum, the results will not be close to this, so the choice does not really matter"
   ]
  },
  {
   "cell_type": "code",
   "execution_count": 3,
   "metadata": {},
   "outputs": [],
   "source": [
    "a_mod = 2\n",
    "b_mod = 30\n",
    "\n",
    "np.random.seed(123)"
   ]
  },
  {
   "cell_type": "code",
   "execution_count": 4,
   "metadata": {},
   "outputs": [],
   "source": [
    "N = 101\n",
    "X = np.linspace(0.0, 10.0, N, endpoint = True)\n",
    "\n",
    "noise = np.random.normal(0, 1, 101)\n",
    "Y = X*a_mod + b_mod + noise"
   ]
  },
  {
   "cell_type": "code",
   "execution_count": 5,
   "metadata": {},
   "outputs": [
    {
     "data": {
      "image/png": "[encoded data removed]",
      "text/plain": [
       "<matplotlib.figure.Figure at 0x1e887f44128>"
      ]
     },
     "metadata": {},
     "output_type": "display_data"
    }
   ],
   "source": [
    "plt.plot(X, Y)\n",
    "plt.show()"
   ]
  },
  {
   "cell_type": "markdown",
   "metadata": {},
   "source": [
    "Based on the noisy data, we create the SGD algorithm. We created two different sets of SGD algorithm, one using analytical solution of the SSR formula; and another using step-wise differentiation to estimate the gradient. This is useful to ensure that our results are consistent between the two method"
   ]
  },
  {
   "cell_type": "code",
   "execution_count": 6,
   "metadata": {},
   "outputs": [],
   "source": [
    "def squared_resid(y_prime, y):\n",
    "    return np.square(y_prime - y)"
   ]
  },
  {
   "cell_type": "code",
   "execution_count": 7,
   "metadata": {},
   "outputs": [],
   "source": [
    "def get_grad_anal(X, Y, a, b):\n",
    "    de_da = X * 2 * (a * X + b - Y)\n",
    "    de_db = 2 * (a * X + b - Y)\n",
    "    return de_da, de_db"
   ]
  },
  {
   "cell_type": "code",
   "execution_count": 8,
   "metadata": {},
   "outputs": [],
   "source": [
    "def get_grad_step(X, Y, a, b, step_sz):\n",
    "    Y_prime = a * X + b\n",
    "    Y_a = (a + step_sz) * X + b\n",
    "    Y_b = a * X + (b + step_sz)\n",
    "    \n",
    "    err_prev = squared_resid(Y_prime, Y)\n",
    "    err_a = squared_resid(Y_a, Y)\n",
    "    err_b = squared_resid(Y_b, Y)\n",
    "    \n",
    "    de_da = (err_a - err_prev)/step_sz\n",
    "    de_db = (err_b - err_prev)/step_sz\n",
    "    \n",
    "    return de_da, de_db\n",
    "    "
   ]
  },
  {
   "cell_type": "code",
   "execution_count": 9,
   "metadata": {},
   "outputs": [],
   "source": [
    "def get_new_weight(X, Y, a, b, lr):\n",
    "    de_da, de_db = get_grad_anal(X, Y, a, b)\n",
    "    new_a = a - lr * de_da\n",
    "    new_b = b - lr * de_db\n",
    "    return new_a, new_b"
   ]
  },
  {
   "cell_type": "code",
   "execution_count": 10,
   "metadata": {},
   "outputs": [],
   "source": [
    "def get_new_weight_step(X, Y, a, b, lr, step_sz):\n",
    "    de_da, de_db = get_grad_step(X, Y, a, b, step_sz)\n",
    "    new_a = a - lr * de_da\n",
    "    new_b = b - lr * de_db\n",
    "    return new_a, new_b"
   ]
  },
  {
   "cell_type": "code",
   "execution_count": 11,
   "metadata": {},
   "outputs": [],
   "source": [
    "def SGD_anal (X, Y, lr = 1e-4, a = 1, b = 1, batch_size = 1, epoch = 3):\n",
    "    for i in range(0,epoch):\n",
    "        for j in range(0, len(X)):\n",
    "            new_a, new_b = get_new_weight(X[j], Y[j], a, b, lr)\n",
    "            a = new_a\n",
    "            b = new_b\n",
    "            \n",
    "    return a, b"
   ]
  },
  {
   "cell_type": "code",
   "execution_count": 12,
   "metadata": {},
   "outputs": [],
   "source": [
    "def SGD_step (X, Y, lr = 1e-4, a = 1, b = 1, batch_size = 1, epoch = 3, step_sz = 0.01):\n",
    "    for i in range(0,epoch):\n",
    "        for j in range(0, len(X)):\n",
    "            new_a, new_b = get_new_weight_step(X[j], Y[j], a, b, lr, step_sz)\n",
    "            a = new_a\n",
    "            b = new_b\n",
    "            \n",
    "    return a, b"
   ]
  },
  {
   "cell_type": "code",
   "execution_count": 13,
   "metadata": {},
   "outputs": [],
   "source": [
    "a_anal, b_anal = SGD_anal(X, Y)"
   ]
  },
  {
   "cell_type": "code",
   "execution_count": 14,
   "metadata": {},
   "outputs": [],
   "source": [
    "a_step, b_step = SGD_step(X, Y)"
   ]
  },
  {
   "cell_type": "code",
   "execution_count": 15,
   "metadata": {},
   "outputs": [
    {
     "name": "stdout",
     "output_type": "stream",
     "text": [
      "5.28484360657 2.1220693756\n"
     ]
    }
   ],
   "source": [
    "print(a_anal, b_anal)"
   ]
  },
  {
   "cell_type": "code",
   "execution_count": 16,
   "metadata": {},
   "outputs": [
    {
     "name": "stdout",
     "output_type": "stream",
     "text": [
      "5.28046475389 2.12258144403\n"
     ]
    }
   ],
   "source": [
    "print(a_step, b_step)"
   ]
  },
  {
   "cell_type": "markdown",
   "metadata": {},
   "source": [
    "Below, we expanded the implementation to include batch size. Default batch size is set to 1, but it can be changed according to the need."
   ]
  },
  {
   "cell_type": "code",
   "execution_count": 17,
   "metadata": {},
   "outputs": [],
   "source": [
    "def SGD_batch (X, Y, lr = 1e-4, a = 1, b = 1, batch_size = 1, epoch = 3):\n",
    "    for i in range(0,epoch):\n",
    "        batch_num = 0\n",
    "        for j in range(0, int(len(X)/batch_size)):\n",
    "            start = batch_num * batch_size\n",
    "            new_a, new_b = get_weight_batch(X[start: start + batch_size], Y[start:start + batch_size], a, b, lr)\n",
    "            a = new_a\n",
    "            b = new_b\n",
    "            batch_num += 1\n",
    "            \n",
    "        if len(X) > batch_num * batch_size:\n",
    "            new_a, new_b = get_weight_batch(X[batch_num * batch_size: len(X)], Y[batch_num * batch_size: len(Y)], a, b, lr)\n",
    "    \n",
    "    return a, b"
   ]
  },
  {
   "cell_type": "code",
   "execution_count": 18,
   "metadata": {},
   "outputs": [],
   "source": [
    "def get_weight_batch(X, Y, a, b, lr):\n",
    "    de_da, de_db = get_grad_anal(X, Y, a, b)\n",
    "    new_a = a - lr * np.mean(de_da)\n",
    "    new_b = b - lr * np.mean(de_db)\n",
    "    return new_a, new_b"
   ]
  },
  {
   "cell_type": "code",
   "execution_count": 19,
   "metadata": {},
   "outputs": [],
   "source": [
    "a_batch, b_batch = SGD_batch(X, Y, batch_size = 1, epoch = 3)"
   ]
  },
  {
   "cell_type": "code",
   "execution_count": 20,
   "metadata": {},
   "outputs": [
    {
     "name": "stdout",
     "output_type": "stream",
     "text": [
      "5.28484360657 2.1220693756\n"
     ]
    }
   ],
   "source": [
    "print(a_batch, b_batch)"
   ]
  },
  {
   "cell_type": "markdown",
   "metadata": {},
   "source": [
    "As you can see, the results of the three implementation is very close and can be said to be identical. Minimal changes to the batch-wise SGD algorithm is due python being able to adapt the calculations depending on the input data type. \n",
    "\n",
    "In batch-wise addition, the X and Y are actually array of values. For the update value, we calculate the mean of the array returned from the gradient function before adding it to the update function."
   ]
  },
  {
   "cell_type": "code",
   "execution_count": null,
   "metadata": {},
   "outputs": [],
   "source": []
  },
  {
   "cell_type": "code",
   "execution_count": null,
   "metadata": {},
   "outputs": [],
   "source": []
  }
 ],
 "metadata": {
  "kernelspec": {
   "display_name": "Python 3",
   "language": "python",
   "name": "python3"
  },
  "language_info": {
   "codemirror_mode": {
    "name": "ipython",
    "version": 3
   },
   "file_extension": ".py",
   "mimetype": "text/x-python",
   "name": "python",
   "nbconvert_exporter": "python",
   "pygments_lexer": "ipython3",
   "version": "3.6.3"
  }
 },
 "nbformat": 4,
 "nbformat_minor": 2
}
